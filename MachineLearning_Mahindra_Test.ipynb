{
 "cells": [
  {
   "cell_type": "code",
   "execution_count": 2,
   "metadata": {
    "jupyter": {
     "outputs_hidden": true
    }
   },
   "outputs": [],
   "source": [
    "# 1.1 Loading Initial Libraries\n",
    "import pandas as pd\n",
    "import numpy as np\n",
    "import matplotlib.pyplot as plt\n",
    "import seaborn as sns"
   ]
  },
  {
   "cell_type": "code",
   "execution_count": 3,
   "metadata": {
    "jupyter": {
     "outputs_hidden": true
    }
   },
   "outputs": [],
   "source": [
    "# 1.2 Load Dataset\n",
    "train=pd.read_csv(\"C:/Users/acer/Desktop/Machine Learning/Mahindra/training_dataset.csv\")"
   ]
  },
  {
   "cell_type": "code",
   "execution_count": 4,
   "metadata": {
    "collapsed": true,
    "jupyter": {
     "outputs_hidden": true
    }
   },
   "outputs": [
    {
     "data": {
      "text/html": [
       "<div>\n",
       "<style scoped>\n",
       "    .dataframe tbody tr th:only-of-type {\n",
       "        vertical-align: middle;\n",
       "    }\n",
       "\n",
       "    .dataframe tbody tr th {\n",
       "        vertical-align: top;\n",
       "    }\n",
       "\n",
       "    .dataframe thead th {\n",
       "        text-align: right;\n",
       "    }\n",
       "</style>\n",
       "<table border=\"1\" class=\"dataframe\">\n",
       "  <thead>\n",
       "    <tr style=\"text-align: right;\">\n",
       "      <th></th>\n",
       "      <th>Variable1</th>\n",
       "      <th>Variable2</th>\n",
       "      <th>Variable3</th>\n",
       "      <th>Variable4</th>\n",
       "      <th>Variable5</th>\n",
       "      <th>Variable6</th>\n",
       "      <th>Variable7</th>\n",
       "      <th>Variable8</th>\n",
       "      <th>Variable9</th>\n",
       "      <th>Variable10</th>\n",
       "      <th>...</th>\n",
       "      <th>Variable20</th>\n",
       "      <th>Variable21</th>\n",
       "      <th>Variable22</th>\n",
       "      <th>Variable23</th>\n",
       "      <th>Variable24</th>\n",
       "      <th>Variable25</th>\n",
       "      <th>Variable26</th>\n",
       "      <th>Variable27</th>\n",
       "      <th>Variable28</th>\n",
       "      <th>Target</th>\n",
       "    </tr>\n",
       "  </thead>\n",
       "  <tbody>\n",
       "    <tr>\n",
       "      <th>0</th>\n",
       "      <td>1</td>\n",
       "      <td>ARO-4742</td>\n",
       "      <td>1</td>\n",
       "      <td>APHRNG1692</td>\n",
       "      <td>May-16</td>\n",
       "      <td>N</td>\n",
       "      <td>9.314022e+09</td>\n",
       "      <td>Col-6930</td>\n",
       "      <td>PKSA016674</td>\n",
       "      <td>USG1</td>\n",
       "      <td>...</td>\n",
       "      <td>NaN</td>\n",
       "      <td>NaN</td>\n",
       "      <td>VAR SULP TT3 PS</td>\n",
       "      <td>NaN</td>\n",
       "      <td>N</td>\n",
       "      <td>NaN</td>\n",
       "      <td>COM2</td>\n",
       "      <td>1150.0</td>\n",
       "      <td>MFTRC322</td>\n",
       "      <td>0</td>\n",
       "    </tr>\n",
       "    <tr>\n",
       "      <th>1</th>\n",
       "      <td>2</td>\n",
       "      <td>ARO-4928</td>\n",
       "      <td>2</td>\n",
       "      <td>APFPTV9946</td>\n",
       "      <td>Feb-17</td>\n",
       "      <td>N</td>\n",
       "      <td>9.251002e+09</td>\n",
       "      <td>Col-6930</td>\n",
       "      <td>PA2Z013889</td>\n",
       "      <td>USG4</td>\n",
       "      <td>...</td>\n",
       "      <td>NaN</td>\n",
       "      <td>NaN</td>\n",
       "      <td>VAR SULP TT4</td>\n",
       "      <td>NaN</td>\n",
       "      <td>N</td>\n",
       "      <td>NaN</td>\n",
       "      <td>COM1</td>\n",
       "      <td>1150.0</td>\n",
       "      <td>MFTRC322</td>\n",
       "      <td>0</td>\n",
       "    </tr>\n",
       "    <tr>\n",
       "      <th>2</th>\n",
       "      <td>3</td>\n",
       "      <td>ARO-3778</td>\n",
       "      <td>2</td>\n",
       "      <td>APHRNG1692</td>\n",
       "      <td>Dec-15</td>\n",
       "      <td>NaN</td>\n",
       "      <td>9.451552e+09</td>\n",
       "      <td>Col-4259</td>\n",
       "      <td>PCEM018562</td>\n",
       "      <td>USG4</td>\n",
       "      <td>...</td>\n",
       "      <td>NaN</td>\n",
       "      <td>NaN</td>\n",
       "      <td>VAR SULP DI TT3</td>\n",
       "      <td>NaN</td>\n",
       "      <td>N</td>\n",
       "      <td>NaN</td>\n",
       "      <td>COM3</td>\n",
       "      <td>1150.0</td>\n",
       "      <td>MFTRC322</td>\n",
       "      <td>0</td>\n",
       "    </tr>\n",
       "    <tr>\n",
       "      <th>3</th>\n",
       "      <td>4</td>\n",
       "      <td>ARO-4998</td>\n",
       "      <td>1</td>\n",
       "      <td>APFPTV154265</td>\n",
       "      <td>Sep-16</td>\n",
       "      <td>N</td>\n",
       "      <td>9.416109e+09</td>\n",
       "      <td>Col-4259</td>\n",
       "      <td>PTRW14933</td>\n",
       "      <td>USG4</td>\n",
       "      <td>...</td>\n",
       "      <td>NaN</td>\n",
       "      <td>NaN</td>\n",
       "      <td>VAR SULP DI TT3 PS</td>\n",
       "      <td>NaN</td>\n",
       "      <td>N</td>\n",
       "      <td>NaN</td>\n",
       "      <td>COM1</td>\n",
       "      <td>1000.0</td>\n",
       "      <td>MFTRC322</td>\n",
       "      <td>0</td>\n",
       "    </tr>\n",
       "    <tr>\n",
       "      <th>4</th>\n",
       "      <td>5</td>\n",
       "      <td>ARO-3627</td>\n",
       "      <td>2</td>\n",
       "      <td>APHRNG1692</td>\n",
       "      <td>Feb-16</td>\n",
       "      <td>N</td>\n",
       "      <td>9.500040e+09</td>\n",
       "      <td>Col-4259</td>\n",
       "      <td>PAM0026696</td>\n",
       "      <td>USG1</td>\n",
       "      <td>...</td>\n",
       "      <td>NaN</td>\n",
       "      <td>NaN</td>\n",
       "      <td>VAR SULP TT4 PS</td>\n",
       "      <td>NaN</td>\n",
       "      <td>N</td>\n",
       "      <td>NaN</td>\n",
       "      <td>COM1</td>\n",
       "      <td>1150.0</td>\n",
       "      <td>MAHEC465</td>\n",
       "      <td>0</td>\n",
       "    </tr>\n",
       "  </tbody>\n",
       "</table>\n",
       "<p>5 rows × 29 columns</p>\n",
       "</div>"
      ],
      "text/plain": [
       "   Variable1 Variable2  Variable3     Variable4 Variable5 Variable6  \\\n",
       "0          1  ARO-4742          1    APHRNG1692    May-16         N   \n",
       "1          2  ARO-4928          2    APFPTV9946    Feb-17         N   \n",
       "2          3  ARO-3778          2    APHRNG1692    Dec-15       NaN   \n",
       "3          4  ARO-4998          1  APFPTV154265    Sep-16         N   \n",
       "4          5  ARO-3627          2    APHRNG1692    Feb-16         N   \n",
       "\n",
       "      Variable7 Variable8   Variable9 Variable10  ... Variable20  Variable21  \\\n",
       "0  9.314022e+09  Col-6930  PKSA016674       USG1  ...        NaN         NaN   \n",
       "1  9.251002e+09  Col-6930  PA2Z013889       USG4  ...        NaN         NaN   \n",
       "2  9.451552e+09  Col-4259  PCEM018562       USG4  ...        NaN         NaN   \n",
       "3  9.416109e+09  Col-4259   PTRW14933       USG4  ...        NaN         NaN   \n",
       "4  9.500040e+09  Col-4259  PAM0026696       USG1  ...        NaN         NaN   \n",
       "\n",
       "           Variable22 Variable23 Variable24  Variable25 Variable26 Variable27  \\\n",
       "0     VAR SULP TT3 PS        NaN          N         NaN       COM2     1150.0   \n",
       "1        VAR SULP TT4        NaN          N         NaN       COM1     1150.0   \n",
       "2     VAR SULP DI TT3        NaN          N         NaN       COM3     1150.0   \n",
       "3  VAR SULP DI TT3 PS        NaN          N         NaN       COM1     1000.0   \n",
       "4     VAR SULP TT4 PS        NaN          N         NaN       COM1     1150.0   \n",
       "\n",
       "  Variable28 Target  \n",
       "0   MFTRC322      0  \n",
       "1   MFTRC322      0  \n",
       "2   MFTRC322      0  \n",
       "3   MFTRC322      0  \n",
       "4   MAHEC465      0  \n",
       "\n",
       "[5 rows x 29 columns]"
      ]
     },
     "execution_count": 4,
     "metadata": {},
     "output_type": "execute_result"
    }
   ],
   "source": [
    "# 1.3 Data Over View\n",
    "train.head()"
   ]
  },
  {
   "cell_type": "code",
   "execution_count": 5,
   "metadata": {
    "collapsed": true,
    "jupyter": {
     "outputs_hidden": true
    }
   },
   "outputs": [
    {
     "data": {
      "text/plain": [
       "(199609, 29)"
      ]
     },
     "execution_count": 5,
     "metadata": {},
     "output_type": "execute_result"
    }
   ],
   "source": [
    "train.shape"
   ]
  },
  {
   "cell_type": "code",
   "execution_count": 6,
   "metadata": {
    "collapsed": true,
    "jupyter": {
     "outputs_hidden": true
    }
   },
   "outputs": [
    {
     "data": {
      "text/plain": [
       "Variable1       int64\n",
       "Variable2      object\n",
       "Variable3       int64\n",
       "Variable4      object\n",
       "Variable5      object\n",
       "Variable6      object\n",
       "Variable7     float64\n",
       "Variable8      object\n",
       "Variable9      object\n",
       "Variable10     object\n",
       "Variable11     object\n",
       "Variable12    float64\n",
       "Variable13     object\n",
       "Variable14     object\n",
       "Variable15     object\n",
       "Variable16    float64\n",
       "Variable17     object\n",
       "Variable18     object\n",
       "Variable19     object\n",
       "Variable20     object\n",
       "Variable21    float64\n",
       "Variable22     object\n",
       "Variable23     object\n",
       "Variable24     object\n",
       "Variable25     object\n",
       "Variable26     object\n",
       "Variable27    float64\n",
       "Variable28     object\n",
       "Target          int64\n",
       "dtype: object"
      ]
     },
     "execution_count": 6,
     "metadata": {},
     "output_type": "execute_result"
    }
   ],
   "source": [
    "train.dtypes"
   ]
  },
  {
   "cell_type": "code",
   "execution_count": 7,
   "metadata": {
    "jupyter": {
     "outputs_hidden": true
    }
   },
   "outputs": [
    {
     "data": {
      "text/plain": [
       "Index(['Variable1', 'Variable2', 'Variable3', 'Variable4', 'Variable5',\n",
       "       'Variable6', 'Variable7', 'Variable8', 'Variable9', 'Variable10',\n",
       "       'Variable11', 'Variable12', 'Variable13', 'Variable14', 'Variable15',\n",
       "       'Variable16', 'Variable17', 'Variable18', 'Variable19', 'Variable20',\n",
       "       'Variable21', 'Variable22', 'Variable23', 'Variable24', 'Variable25',\n",
       "       'Variable26', 'Variable27', 'Variable28', 'Target'],\n",
       "      dtype='object')"
      ]
     },
     "execution_count": 7,
     "metadata": {},
     "output_type": "execute_result"
    }
   ],
   "source": [
    "train.columns"
   ]
  },
  {
   "cell_type": "code",
   "execution_count": 8,
   "metadata": {
    "collapsed": true,
    "jupyter": {
     "outputs_hidden": true
    }
   },
   "outputs": [
    {
     "data": {
      "text/html": [
       "<div>\n",
       "<style scoped>\n",
       "    .dataframe tbody tr th:only-of-type {\n",
       "        vertical-align: middle;\n",
       "    }\n",
       "\n",
       "    .dataframe tbody tr th {\n",
       "        vertical-align: top;\n",
       "    }\n",
       "\n",
       "    .dataframe thead th {\n",
       "        text-align: right;\n",
       "    }\n",
       "</style>\n",
       "<table border=\"1\" class=\"dataframe\">\n",
       "  <thead>\n",
       "    <tr style=\"text-align: right;\">\n",
       "      <th></th>\n",
       "      <th>Variable1</th>\n",
       "      <th>Variable3</th>\n",
       "      <th>Variable7</th>\n",
       "      <th>Variable12</th>\n",
       "      <th>Variable16</th>\n",
       "      <th>Variable21</th>\n",
       "      <th>Variable27</th>\n",
       "      <th>Target</th>\n",
       "    </tr>\n",
       "  </thead>\n",
       "  <tbody>\n",
       "    <tr>\n",
       "      <th>count</th>\n",
       "      <td>199609.000000</td>\n",
       "      <td>199609.000000</td>\n",
       "      <td>1.880740e+05</td>\n",
       "      <td>162791.000000</td>\n",
       "      <td>24905.000000</td>\n",
       "      <td>0.0</td>\n",
       "      <td>165446.000000</td>\n",
       "      <td>199609.000000</td>\n",
       "    </tr>\n",
       "    <tr>\n",
       "      <th>mean</th>\n",
       "      <td>99805.000000</td>\n",
       "      <td>3.629831</td>\n",
       "      <td>9.437428e+09</td>\n",
       "      <td>168.695659</td>\n",
       "      <td>211.760610</td>\n",
       "      <td>NaN</td>\n",
       "      <td>1433.632635</td>\n",
       "      <td>0.169827</td>\n",
       "    </tr>\n",
       "    <tr>\n",
       "      <th>std</th>\n",
       "      <td>57622.299279</td>\n",
       "      <td>2.273030</td>\n",
       "      <td>1.937600e+08</td>\n",
       "      <td>153.383607</td>\n",
       "      <td>5882.969575</td>\n",
       "      <td>NaN</td>\n",
       "      <td>588.659606</td>\n",
       "      <td>0.375482</td>\n",
       "    </tr>\n",
       "    <tr>\n",
       "      <th>min</th>\n",
       "      <td>1.000000</td>\n",
       "      <td>0.000000</td>\n",
       "      <td>9.110001e+09</td>\n",
       "      <td>1.000000</td>\n",
       "      <td>0.000000</td>\n",
       "      <td>NaN</td>\n",
       "      <td>1.000000</td>\n",
       "      <td>0.000000</td>\n",
       "    </tr>\n",
       "    <tr>\n",
       "      <th>25%</th>\n",
       "      <td>49903.000000</td>\n",
       "      <td>2.000000</td>\n",
       "      <td>9.262702e+09</td>\n",
       "      <td>80.000000</td>\n",
       "      <td>1.000000</td>\n",
       "      <td>NaN</td>\n",
       "      <td>1150.000000</td>\n",
       "      <td>0.000000</td>\n",
       "    </tr>\n",
       "    <tr>\n",
       "      <th>50%</th>\n",
       "      <td>99805.000000</td>\n",
       "      <td>3.000000</td>\n",
       "      <td>9.442907e+09</td>\n",
       "      <td>110.000000</td>\n",
       "      <td>1.000000</td>\n",
       "      <td>NaN</td>\n",
       "      <td>1150.000000</td>\n",
       "      <td>0.000000</td>\n",
       "    </tr>\n",
       "    <tr>\n",
       "      <th>75%</th>\n",
       "      <td>149707.000000</td>\n",
       "      <td>4.000000</td>\n",
       "      <td>9.591303e+09</td>\n",
       "      <td>190.000000</td>\n",
       "      <td>1.000000</td>\n",
       "      <td>NaN</td>\n",
       "      <td>1600.000000</td>\n",
       "      <td>0.000000</td>\n",
       "    </tr>\n",
       "    <tr>\n",
       "      <th>max</th>\n",
       "      <td>199609.000000</td>\n",
       "      <td>9.000000</td>\n",
       "      <td>9.855457e+09</td>\n",
       "      <td>650.000000</td>\n",
       "      <td>500000.000000</td>\n",
       "      <td>NaN</td>\n",
       "      <td>3000.000000</td>\n",
       "      <td>1.000000</td>\n",
       "    </tr>\n",
       "  </tbody>\n",
       "</table>\n",
       "</div>"
      ],
      "text/plain": [
       "           Variable1      Variable3     Variable7     Variable12  \\\n",
       "count  199609.000000  199609.000000  1.880740e+05  162791.000000   \n",
       "mean    99805.000000       3.629831  9.437428e+09     168.695659   \n",
       "std     57622.299279       2.273030  1.937600e+08     153.383607   \n",
       "min         1.000000       0.000000  9.110001e+09       1.000000   \n",
       "25%     49903.000000       2.000000  9.262702e+09      80.000000   \n",
       "50%     99805.000000       3.000000  9.442907e+09     110.000000   \n",
       "75%    149707.000000       4.000000  9.591303e+09     190.000000   \n",
       "max    199609.000000       9.000000  9.855457e+09     650.000000   \n",
       "\n",
       "          Variable16  Variable21     Variable27         Target  \n",
       "count   24905.000000         0.0  165446.000000  199609.000000  \n",
       "mean      211.760610         NaN    1433.632635       0.169827  \n",
       "std      5882.969575         NaN     588.659606       0.375482  \n",
       "min         0.000000         NaN       1.000000       0.000000  \n",
       "25%         1.000000         NaN    1150.000000       0.000000  \n",
       "50%         1.000000         NaN    1150.000000       0.000000  \n",
       "75%         1.000000         NaN    1600.000000       0.000000  \n",
       "max    500000.000000         NaN    3000.000000       1.000000  "
      ]
     },
     "execution_count": 8,
     "metadata": {},
     "output_type": "execute_result"
    }
   ],
   "source": [
    "train.describe()"
   ]
  },
  {
   "cell_type": "code",
   "execution_count": 9,
   "metadata": {
    "collapsed": true,
    "jupyter": {
     "outputs_hidden": true
    }
   },
   "outputs": [],
   "source": [
    "#From Intital overview\n",
    "#Variable 1 = ID\n",
    "#Variable 7 = Mobile Number"
   ]
  },
  {
   "cell_type": "code",
   "execution_count": 10,
   "metadata": {
    "collapsed": true,
    "jupyter": {
     "outputs_hidden": true
    }
   },
   "outputs": [
    {
     "data": {
      "text/plain": [
       "0    165710\n",
       "1     33899\n",
       "Name: Target, dtype: int64"
      ]
     },
     "execution_count": 10,
     "metadata": {},
     "output_type": "execute_result"
    }
   ],
   "source": [
    "#Checking target class Imbalance \n",
    "counts=train.Target.value_counts()\n",
    "counts"
   ]
  },
  {
   "cell_type": "code",
   "execution_count": 11,
   "metadata": {
    "collapsed": true,
    "jupyter": {
     "outputs_hidden": true
    }
   },
   "outputs": [
    {
     "data": {
      "text/plain": [
       "<function matplotlib.pyplot.show(*args, **kw)>"
      ]
     },
     "execution_count": 11,
     "metadata": {},
     "output_type": "execute_result"
    },
    {
     "data": {
      "image/png": "[encoded data removed]",
      "text/plain": [
       "<Figure size 432x288 with 1 Axes>"
      ]
     },
     "metadata": {
      "needs_background": "light"
     },
     "output_type": "display_data"
    }
   ],
   "source": [
    "#Visualising Target Class\n",
    "sns.barplot(x=counts.index,y=counts)\n",
    "plt.ylabel(\"Counts\")\n",
    "plt.xlabel(\"Class(1) vs Class(0)\")\n",
    "plt.title(\"Target variable distribution\")\n",
    "plt.legend(round(counts/counts.sum()*100,2))\n",
    "plt.show\n",
    "\n",
    "#Class imbalance is not so huge"
   ]
  },
  {
   "cell_type": "code",
   "execution_count": 12,
   "metadata": {
    "collapsed": true,
    "jupyter": {
     "outputs_hidden": true
    }
   },
   "outputs": [
    {
     "data": {
      "text/plain": [
       "2    61751\n",
       "3    58878\n",
       "8    26587\n",
       "4    21776\n",
       "1     8971\n",
       "7     8061\n",
       "0     4786\n",
       "5     4348\n",
       "9     3589\n",
       "6      862\n",
       "Name: Variable3, dtype: int64"
      ]
     },
     "execution_count": 12,
     "metadata": {},
     "output_type": "execute_result"
    }
   ],
   "source": [
    "#Lets check Varibale 3\n",
    "train.Variable3.value_counts()"
   ]
  },
  {
   "cell_type": "code",
   "execution_count": 13,
   "metadata": {
    "collapsed": true,
    "jupyter": {
     "outputs_hidden": true
    }
   },
   "outputs": [
    {
     "data": {
      "text/plain": [
       "0"
      ]
     },
     "execution_count": 13,
     "metadata": {},
     "output_type": "execute_result"
    }
   ],
   "source": [
    "train.Variable3.isnull().sum()\n",
    "#So we can conclude that variable 3 is ordianal value...may be some rating from 0 to 9"
   ]
  },
  {
   "cell_type": "code",
   "execution_count": 18,
   "metadata": {
    "collapsed": true,
    "jupyter": {
     "outputs_hidden": true
    }
   },
   "outputs": [
    {
     "data": {
      "text/plain": [
       "Variable1          0\n",
       "Variable2          0\n",
       "Variable3          0\n",
       "Variable4          0\n",
       "Variable5          0\n",
       "Variable6      46391\n",
       "Variable7      11535\n",
       "Variable8          0\n",
       "Variable9          0\n",
       "Variable10         0\n",
       "Variable11         0\n",
       "Variable12     36818\n",
       "Variable13         0\n",
       "Variable14         0\n",
       "Variable15         0\n",
       "Variable16    174704\n",
       "Variable17         0\n",
       "Variable18     58539\n",
       "Variable19         0\n",
       "Variable20    175780\n",
       "Variable21    199609\n",
       "Variable22         0\n",
       "Variable23    160126\n",
       "Variable24         0\n",
       "Variable25    182801\n",
       "Variable26         0\n",
       "Variable27     34163\n",
       "Variable28         0\n",
       "Target             0\n",
       "dtype: int64"
      ]
     },
     "execution_count": 18,
     "metadata": {},
     "output_type": "execute_result"
    }
   ],
   "source": [
    "#Lets check for is missing value\n",
    "col_null=train.isnull().sum()\n",
    "col_null"
   ]
  },
  {
   "cell_type": "code",
   "execution_count": 19,
   "metadata": {
    "collapsed": true,
    "jupyter": {
     "outputs_hidden": true
    }
   },
   "outputs": [
    {
     "data": {
      "text/plain": [
       "Variable6      23.240936\n",
       "Variable7       5.778798\n",
       "Variable12     18.445060\n",
       "Variable16     87.523108\n",
       "Variable18     29.326834\n",
       "Variable20     88.062162\n",
       "Variable21    100.000000\n",
       "Variable23     80.219830\n",
       "Variable25     91.579538\n",
       "Variable27     17.114960\n",
       "dtype: float64"
      ]
     },
     "execution_count": 19,
     "metadata": {},
     "output_type": "execute_result"
    }
   ],
   "source": [
    "#Lets check for is missing value in terms of %\n",
    "col_null=col_null[col_null>0]/train.shape[0]*100\n",
    "col_null"
   ]
  },
  {
   "cell_type": "code",
   "execution_count": 20,
   "metadata": {
    "collapsed": true,
    "jupyter": {
     "outputs_hidden": true
    }
   },
   "outputs": [
    {
     "data": {
      "image/png": "[encoded data removed]",
      "text/plain": [
       "<Figure size 432x288 with 1 Axes>"
      ]
     },
     "metadata": {
      "needs_background": "light"
     },
     "output_type": "display_data"
    }
   ],
   "source": [
    "#Visulaising Missing Values\n",
    "splot=sns.barplot(x=col_null.index, y=col_null)\n",
    "plt.xlabel(\"Missing Columns\")\n",
    "plt.ylabel(\"Percentage\")\n",
    "plt.title(\"Missing Value in Dataset (in %)\")\n",
    "plt.xticks(rotation=\"vertical\")\n",
    "for p in splot.patches:#for annonating - reference stackoverflow\n",
    "    splot.annotate(format(p.get_height(), '.2f'), (p.get_x() + p.get_width() / 2., \n",
    "                          p.get_height()), ha = 'center', va = 'center', xytext = (0, 10), \n",
    "    textcoords = 'offset points',fontsize=8)\n",
    "plt.show()"
   ]
  },
  {
   "cell_type": "code",
   "execution_count": 21,
   "metadata": {
    "collapsed": true,
    "jupyter": {
     "outputs_hidden": true
    }
   },
   "outputs": [
    {
     "data": {
      "text/plain": [
       "Variable1       int64\n",
       "Variable2      object\n",
       "Variable3       int64\n",
       "Variable4      object\n",
       "Variable5      object\n",
       "Variable6      object\n",
       "Variable7     float64\n",
       "Variable8      object\n",
       "Variable9      object\n",
       "Variable10     object\n",
       "Variable11     object\n",
       "Variable12    float64\n",
       "Variable13     object\n",
       "Variable14     object\n",
       "Variable15     object\n",
       "Variable16    float64\n",
       "Variable17     object\n",
       "Variable18     object\n",
       "Variable19     object\n",
       "Variable20     object\n",
       "Variable21    float64\n",
       "Variable22     object\n",
       "Variable23     object\n",
       "Variable24     object\n",
       "Variable25     object\n",
       "Variable26     object\n",
       "Variable27    float64\n",
       "Variable28     object\n",
       "Target          int64\n",
       "dtype: object"
      ]
     },
     "execution_count": 21,
     "metadata": {},
     "output_type": "execute_result"
    }
   ],
   "source": [
    "#Treating train by separating them as per their datatypes\n",
    "train.dtypes"
   ]
  },
  {
   "cell_type": "code",
   "execution_count": 22,
   "metadata": {
    "collapsed": true,
    "jupyter": {
     "outputs_hidden": true
    }
   },
   "outputs": [],
   "source": [
    "# INT Datatypes\n",
    "#Variable1 = ID\n",
    "#Variable3 = no misisng values (seems ordinal ratings)\n",
    "#Target "
   ]
  },
  {
   "cell_type": "code",
   "execution_count": 23,
   "metadata": {
    "collapsed": true,
    "jupyter": {
     "outputs_hidden": true
    }
   },
   "outputs": [],
   "source": [
    "#Float Datatypes\n",
    "#Variable7 - Mobile Numbers - Will treat 5.78% missing data as separate class\n",
    "#Variable12 - missing value 18.5%\n",
    "#Variable16 - 87%of data are misising\n",
    "#Variable21 - All Blank - Can be deleted\n",
    "#Variable27 - 17.11 % missing data"
   ]
  },
  {
   "cell_type": "code",
   "execution_count": 26,
   "metadata": {
    "collapsed": true,
    "jupyter": {
     "outputs_hidden": true
    }
   },
   "outputs": [
    {
     "data": {
      "text/plain": [
       "<matplotlib.axes._subplots.AxesSubplot at 0x25468351b00>"
      ]
     },
     "execution_count": 26,
     "metadata": {},
     "output_type": "execute_result"
    },
    {
     "data": {
      "image/png": "[encoded data removed]",
      "text/plain": [
       "<Figure size 432x288 with 1 Axes>"
      ]
     },
     "metadata": {
      "needs_background": "light"
     },
     "output_type": "display_data"
    }
   ],
   "source": [
    "#Checking Variable 16 \n",
    "sns.boxplot(data= train.Variable16)\n"
   ]
  },
  {
   "cell_type": "code",
   "execution_count": 41,
   "metadata": {
    "collapsed": true,
    "jupyter": {
     "outputs_hidden": true
    }
   },
   "outputs": [
    {
     "data": {
      "text/plain": [
       "50.875586591691395"
      ]
     },
     "execution_count": 41,
     "metadata": {},
     "output_type": "execute_result"
    }
   ],
   "source": [
    "train.Variable16.skew()\n",
    "#highly skew toward right"
   ]
  },
  {
   "cell_type": "code",
   "execution_count": 33,
   "metadata": {
    "collapsed": true,
    "jupyter": {
     "outputs_hidden": true
    }
   },
   "outputs": [
    {
     "data": {
      "image/png": "[encoded data removed]",
      "text/plain": [
       "<Figure size 432x288 with 1 Axes>"
      ]
     },
     "metadata": {
      "needs_background": "light"
     },
     "output_type": "display_data"
    }
   ],
   "source": [
    "#Distribution Plot of Variable 16\n",
    "sns.distplot(train.Variable16[train.Variable16>=0],)"
   ]
  },
  {
   "cell_type": "code",
   "execution_count": 40,
   "metadata": {
    "collapsed": true,
    "jupyter": {
     "outputs_hidden": true
    }
   },
   "outputs": [
    {
     "data": {
      "text/plain": [
       "1.0         20102\n",
       "2.0          2248\n",
       "3.0           608\n",
       "0.0           415\n",
       "4.0           207\n",
       "5.0           139\n",
       "2000.0         91\n",
       "1000.0         80\n",
       "1500.0         78\n",
       "2012.0         72\n",
       "1150.0         51\n",
       "2010.0         50\n",
       "2500.0         46\n",
       "2011.0         44\n",
       "6.0            41\n",
       "2009.0         32\n",
       "1250.0         32\n",
       "2013.0         30\n",
       "20.0           28\n",
       "800.0          27\n",
       "8.0            26\n",
       "10.0           26\n",
       "2014.0         25\n",
       "1200.0         25\n",
       "850.0          20\n",
       "750.0          18\n",
       "2015.0         18\n",
       "15.0           17\n",
       "700.0          17\n",
       "7.0            15\n",
       "            ...  \n",
       "60.0            1\n",
       "57.0            1\n",
       "968.0           1\n",
       "965.0           1\n",
       "29.0            1\n",
       "1180.0          1\n",
       "180015.0        1\n",
       "1350.0          1\n",
       "180000.0        1\n",
       "12500.0         1\n",
       "1400.0          1\n",
       "120000.0        1\n",
       "1428.0          1\n",
       "650.0           1\n",
       "500000.0        1\n",
       "45.0            1\n",
       "2540.0          1\n",
       "2533.0          1\n",
       "1258.0          1\n",
       "125000.0        1\n",
       "490.0           1\n",
       "2017.0          1\n",
       "78000.0         1\n",
       "31.0            1\n",
       "23.0            1\n",
       "328.0           1\n",
       "685.0           1\n",
       "185.0           1\n",
       "4000.0          1\n",
       "75.0            1\n",
       "Name: Variable16, Length: 136, dtype: int64"
      ]
     },
     "execution_count": 40,
     "metadata": {},
     "output_type": "execute_result"
    }
   ],
   "source": [
    "train.Variable16.value_counts()"
   ]
  },
  {
   "cell_type": "code",
   "execution_count": 38,
   "metadata": {
    "collapsed": true,
    "jupyter": {
     "outputs_hidden": true
    }
   },
   "outputs": [
    {
     "data": {
      "text/plain": [
       "<matplotlib.axes._subplots.AxesSubplot at 0x2546901d208>"
      ]
     },
     "execution_count": 38,
     "metadata": {},
     "output_type": "execute_result"
    },
    {
     "data": {
      "image/png": "[encoded data removed]",
      "text/plain": [
       "<Figure size 432x288 with 1 Axes>"
      ]
     },
     "metadata": {
      "needs_background": "light"
     },
     "output_type": "display_data"
    }
   ],
   "source": [
    "#Distribution Plot of Variable 27\n",
    "sns.distplot(train.Variable27[train.Variable27>=0],)"
   ]
  },
  {
   "cell_type": "code",
   "execution_count": 43,
   "metadata": {
    "collapsed": true,
    "jupyter": {
     "outputs_hidden": true
    }
   },
   "outputs": [
    {
     "data": {
      "text/plain": [
       "<matplotlib.axes._subplots.AxesSubplot at 0x25469a12470>"
      ]
     },
     "execution_count": 43,
     "metadata": {},
     "output_type": "execute_result"
    },
    {
     "data": {
      "image/png": "[encoded data removed]",
      "text/plain": [
       "<Figure size 432x288 with 1 Axes>"
      ]
     },
     "metadata": {
      "needs_background": "light"
     },
     "output_type": "display_data"
    }
   ],
   "source": [
    "sns.boxplot(data= train.Variable27)"
   ]
  },
  {
   "cell_type": "code",
   "execution_count": 39,
   "metadata": {
    "collapsed": true,
    "jupyter": {
     "outputs_hidden": true
    }
   },
   "outputs": [
    {
     "data": {
      "text/plain": [
       "1150.0    47994\n",
       "1500.0    17569\n",
       "1000.0    17441\n",
       "2000.0    14801\n",
       "2500.0    13240\n",
       "1200.0     9987\n",
       "1250.0     8454\n",
       "3000.0     6073\n",
       "1100.0     5361\n",
       "1800.0     2972\n",
       "900.0      1146\n",
       "800.0      1015\n",
       "1300.0      996\n",
       "1400.0      849\n",
       "1600.0      826\n",
       "850.0       822\n",
       "500.0       740\n",
       "700.0       652\n",
       "1050.0      620\n",
       "2200.0      610\n",
       "1.0         609\n",
       "1700.0      521\n",
       "750.0       431\n",
       "860.0       415\n",
       "1350.0      413\n",
       "600.0       346\n",
       "2800.0      341\n",
       "100.0       337\n",
       "1140.0      300\n",
       "1900.0      275\n",
       "          ...  \n",
       "2534.0        1\n",
       "1286.0        1\n",
       "432.0         1\n",
       "2535.0        1\n",
       "2001.0        1\n",
       "410.0         1\n",
       "778.0         1\n",
       "1552.0        1\n",
       "586.0         1\n",
       "2543.0        1\n",
       "2544.0        1\n",
       "336.0         1\n",
       "2546.0        1\n",
       "2360.0        1\n",
       "2608.0        1\n",
       "2551.0        1\n",
       "2328.0        1\n",
       "501.0         1\n",
       "507.0         1\n",
       "1025.0        1\n",
       "895.0         1\n",
       "1457.0        1\n",
       "856.0         1\n",
       "1768.0        1\n",
       "128.0         1\n",
       "2311.0        1\n",
       "2308.0        1\n",
       "1005.0        1\n",
       "1377.0        1\n",
       "1504.0        1\n",
       "Name: Variable27, Length: 614, dtype: int64"
      ]
     },
     "execution_count": 39,
     "metadata": {},
     "output_type": "execute_result"
    }
   ],
   "source": [
    "train.Variable27.value_counts()"
   ]
  },
  {
   "cell_type": "code",
   "execution_count": 42,
   "metadata": {
    "collapsed": true,
    "jupyter": {
     "outputs_hidden": true
    }
   },
   "outputs": [
    {
     "data": {
      "text/plain": [
       "<matplotlib.axes._subplots.AxesSubplot at 0x254699ea358>"
      ]
     },
     "execution_count": 42,
     "metadata": {},
     "output_type": "execute_result"
    },
    {
     "data": {
      "image/png": "[encoded data removed]",
      "text/plain": [
       "<Figure size 432x288 with 1 Axes>"
      ]
     },
     "metadata": {
      "needs_background": "light"
     },
     "output_type": "display_data"
    }
   ],
   "source": [
    "#Distribution Plot of Variable 12\n",
    "sns.distplot(train.Variable12[train.Variable12>=0],)"
   ]
  },
  {
   "cell_type": "code",
   "execution_count": 44,
   "metadata": {
    "collapsed": true,
    "jupyter": {
     "outputs_hidden": true
    }
   },
   "outputs": [
    {
     "data": {
      "text/plain": [
       "<matplotlib.axes._subplots.AxesSubplot at 0x25469a72668>"
      ]
     },
     "execution_count": 44,
     "metadata": {},
     "output_type": "execute_result"
    },
    {
     "data": {
      "image/png": "[encoded data removed]",
      "text/plain": [
       "<Figure size 432x288 with 1 Axes>"
      ]
     },
     "metadata": {
      "needs_background": "light"
     },
     "output_type": "display_data"
    }
   ],
   "source": [
    "sns.boxplot(data= train.Variable12)"
   ]
  },
  {
   "cell_type": "code",
   "execution_count": 4,
   "metadata": {
    "jupyter": {
     "outputs_hidden": true
    }
   },
   "outputs": [
    {
     "data": {
      "text/html": [
       "<div>\n",
       "<style scoped>\n",
       "    .dataframe tbody tr th:only-of-type {\n",
       "        vertical-align: middle;\n",
       "    }\n",
       "\n",
       "    .dataframe tbody tr th {\n",
       "        vertical-align: top;\n",
       "    }\n",
       "\n",
       "    .dataframe thead th {\n",
       "        text-align: right;\n",
       "    }\n",
       "</style>\n",
       "<table border=\"1\" class=\"dataframe\">\n",
       "  <thead>\n",
       "    <tr style=\"text-align: right;\">\n",
       "      <th></th>\n",
       "      <th>Variable1</th>\n",
       "      <th>Variable2</th>\n",
       "      <th>Variable3</th>\n",
       "      <th>Variable4</th>\n",
       "      <th>Variable5</th>\n",
       "      <th>Variable6</th>\n",
       "      <th>Variable7</th>\n",
       "      <th>Variable8</th>\n",
       "      <th>Variable9</th>\n",
       "      <th>Variable10</th>\n",
       "      <th>...</th>\n",
       "      <th>Variable21</th>\n",
       "      <th>Variable22</th>\n",
       "      <th>Variable23</th>\n",
       "      <th>Variable24</th>\n",
       "      <th>Variable25</th>\n",
       "      <th>Variable26</th>\n",
       "      <th>Variable27</th>\n",
       "      <th>Variable28</th>\n",
       "      <th>Target</th>\n",
       "      <th>Variable7_M</th>\n",
       "    </tr>\n",
       "  </thead>\n",
       "  <tbody>\n",
       "    <tr>\n",
       "      <th>0</th>\n",
       "      <td>1</td>\n",
       "      <td>ARO-4742</td>\n",
       "      <td>1</td>\n",
       "      <td>APHRNG1692</td>\n",
       "      <td>May-16</td>\n",
       "      <td>N</td>\n",
       "      <td>9.314022e+09</td>\n",
       "      <td>Col-6930</td>\n",
       "      <td>PKSA016674</td>\n",
       "      <td>USG1</td>\n",
       "      <td>...</td>\n",
       "      <td>NaN</td>\n",
       "      <td>VAR SULP TT3 PS</td>\n",
       "      <td>NaN</td>\n",
       "      <td>N</td>\n",
       "      <td>NaN</td>\n",
       "      <td>COM2</td>\n",
       "      <td>1150.0</td>\n",
       "      <td>MFTRC322</td>\n",
       "      <td>0</td>\n",
       "      <td>1</td>\n",
       "    </tr>\n",
       "    <tr>\n",
       "      <th>1</th>\n",
       "      <td>2</td>\n",
       "      <td>ARO-4928</td>\n",
       "      <td>2</td>\n",
       "      <td>APFPTV9946</td>\n",
       "      <td>Feb-17</td>\n",
       "      <td>N</td>\n",
       "      <td>9.251002e+09</td>\n",
       "      <td>Col-6930</td>\n",
       "      <td>PA2Z013889</td>\n",
       "      <td>USG4</td>\n",
       "      <td>...</td>\n",
       "      <td>NaN</td>\n",
       "      <td>VAR SULP TT4</td>\n",
       "      <td>NaN</td>\n",
       "      <td>N</td>\n",
       "      <td>NaN</td>\n",
       "      <td>COM1</td>\n",
       "      <td>1150.0</td>\n",
       "      <td>MFTRC322</td>\n",
       "      <td>0</td>\n",
       "      <td>1</td>\n",
       "    </tr>\n",
       "    <tr>\n",
       "      <th>2</th>\n",
       "      <td>3</td>\n",
       "      <td>ARO-3778</td>\n",
       "      <td>2</td>\n",
       "      <td>APHRNG1692</td>\n",
       "      <td>Dec-15</td>\n",
       "      <td>NaN</td>\n",
       "      <td>9.451552e+09</td>\n",
       "      <td>Col-4259</td>\n",
       "      <td>PCEM018562</td>\n",
       "      <td>USG4</td>\n",
       "      <td>...</td>\n",
       "      <td>NaN</td>\n",
       "      <td>VAR SULP DI TT3</td>\n",
       "      <td>NaN</td>\n",
       "      <td>N</td>\n",
       "      <td>NaN</td>\n",
       "      <td>COM3</td>\n",
       "      <td>1150.0</td>\n",
       "      <td>MFTRC322</td>\n",
       "      <td>0</td>\n",
       "      <td>1</td>\n",
       "    </tr>\n",
       "    <tr>\n",
       "      <th>3</th>\n",
       "      <td>4</td>\n",
       "      <td>ARO-4998</td>\n",
       "      <td>1</td>\n",
       "      <td>APFPTV154265</td>\n",
       "      <td>Sep-16</td>\n",
       "      <td>N</td>\n",
       "      <td>9.416109e+09</td>\n",
       "      <td>Col-4259</td>\n",
       "      <td>PTRW14933</td>\n",
       "      <td>USG4</td>\n",
       "      <td>...</td>\n",
       "      <td>NaN</td>\n",
       "      <td>VAR SULP DI TT3 PS</td>\n",
       "      <td>NaN</td>\n",
       "      <td>N</td>\n",
       "      <td>NaN</td>\n",
       "      <td>COM1</td>\n",
       "      <td>1000.0</td>\n",
       "      <td>MFTRC322</td>\n",
       "      <td>0</td>\n",
       "      <td>1</td>\n",
       "    </tr>\n",
       "    <tr>\n",
       "      <th>4</th>\n",
       "      <td>5</td>\n",
       "      <td>ARO-3627</td>\n",
       "      <td>2</td>\n",
       "      <td>APHRNG1692</td>\n",
       "      <td>Feb-16</td>\n",
       "      <td>N</td>\n",
       "      <td>9.500040e+09</td>\n",
       "      <td>Col-4259</td>\n",
       "      <td>PAM0026696</td>\n",
       "      <td>USG1</td>\n",
       "      <td>...</td>\n",
       "      <td>NaN</td>\n",
       "      <td>VAR SULP TT4 PS</td>\n",
       "      <td>NaN</td>\n",
       "      <td>N</td>\n",
       "      <td>NaN</td>\n",
       "      <td>COM1</td>\n",
       "      <td>1150.0</td>\n",
       "      <td>MAHEC465</td>\n",
       "      <td>0</td>\n",
       "      <td>1</td>\n",
       "    </tr>\n",
       "  </tbody>\n",
       "</table>\n",
       "<p>5 rows × 30 columns</p>\n",
       "</div>"
      ],
      "text/plain": [
       "   Variable1 Variable2  Variable3     Variable4 Variable5 Variable6  \\\n",
       "0          1  ARO-4742          1    APHRNG1692    May-16         N   \n",
       "1          2  ARO-4928          2    APFPTV9946    Feb-17         N   \n",
       "2          3  ARO-3778          2    APHRNG1692    Dec-15       NaN   \n",
       "3          4  ARO-4998          1  APFPTV154265    Sep-16         N   \n",
       "4          5  ARO-3627          2    APHRNG1692    Feb-16         N   \n",
       "\n",
       "      Variable7 Variable8   Variable9 Variable10  ... Variable21  \\\n",
       "0  9.314022e+09  Col-6930  PKSA016674       USG1  ...        NaN   \n",
       "1  9.251002e+09  Col-6930  PA2Z013889       USG4  ...        NaN   \n",
       "2  9.451552e+09  Col-4259  PCEM018562       USG4  ...        NaN   \n",
       "3  9.416109e+09  Col-4259   PTRW14933       USG4  ...        NaN   \n",
       "4  9.500040e+09  Col-4259  PAM0026696       USG1  ...        NaN   \n",
       "\n",
       "           Variable22 Variable23 Variable24 Variable25  Variable26 Variable27  \\\n",
       "0     VAR SULP TT3 PS        NaN          N        NaN        COM2     1150.0   \n",
       "1        VAR SULP TT4        NaN          N        NaN        COM1     1150.0   \n",
       "2     VAR SULP DI TT3        NaN          N        NaN        COM3     1150.0   \n",
       "3  VAR SULP DI TT3 PS        NaN          N        NaN        COM1     1000.0   \n",
       "4     VAR SULP TT4 PS        NaN          N        NaN        COM1     1150.0   \n",
       "\n",
       "  Variable28 Target Variable7_M  \n",
       "0   MFTRC322      0           1  \n",
       "1   MFTRC322      0           1  \n",
       "2   MFTRC322      0           1  \n",
       "3   MFTRC322      0           1  \n",
       "4   MAHEC465      0           1  \n",
       "\n",
       "[5 rows x 30 columns]"
      ]
     },
     "execution_count": 4,
     "metadata": {},
     "output_type": "execute_result"
    }
   ],
   "source": [
    "#Feature Engineering of Numerical data\n",
    "#Variable 7: Converting it to Class of either Mobile numbers provided or NOT, and dropping the original column\n",
    "\n",
    "train[\"Variable7_M\"]=np.where(train.Variable7>=1000_000_000,1,0)\n",
    "train.head()"
   ]
  },
  {
   "cell_type": "code",
   "execution_count": 47,
   "metadata": {
    "collapsed": true,
    "jupyter": {
     "outputs_hidden": true
    }
   },
   "outputs": [
    {
     "data": {
      "text/plain": [
       "1    0.942212\n",
       "0    0.057788\n",
       "Name: Variable7_M, dtype: float64"
      ]
     },
     "execution_count": 47,
     "metadata": {},
     "output_type": "execute_result"
    }
   ],
   "source": [
    "train.Variable7_M.value_counts()/train.shape[0]"
   ]
  },
  {
   "cell_type": "code",
   "execution_count": 5,
   "metadata": {
    "jupyter": {
     "outputs_hidden": true
    }
   },
   "outputs": [
    {
     "data": {
      "text/plain": [
       "(199609, 29)"
      ]
     },
     "execution_count": 5,
     "metadata": {},
     "output_type": "execute_result"
    }
   ],
   "source": [
    "#Dropping Variable 7\n",
    "train.drop(columns=['Variable7'], inplace=True)\n",
    "train.shape"
   ]
  },
  {
   "cell_type": "code",
   "execution_count": 6,
   "metadata": {
    "jupyter": {
     "outputs_hidden": true
    }
   },
   "outputs": [
    {
     "data": {
      "text/plain": [
       "(199609, 28)"
      ]
     },
     "execution_count": 6,
     "metadata": {},
     "output_type": "execute_result"
    }
   ],
   "source": [
    "#Also dropping Variable 21 (No Values)\n",
    "train.drop(columns=['Variable21'], inplace=True)\n",
    "train.shape"
   ]
  },
  {
   "cell_type": "code",
   "execution_count": 7,
   "metadata": {
    "jupyter": {
     "outputs_hidden": true
    }
   },
   "outputs": [],
   "source": [
    "#Imputing Variable 12 and Variable 27 with median value\n",
    "train.Variable12=train.Variable12.fillna(train.Variable12.median())\n",
    "train.Variable27=train.Variable27.fillna(train.Variable27.median())"
   ]
  },
  {
   "cell_type": "code",
   "execution_count": 56,
   "metadata": {
    "collapsed": true,
    "jupyter": {
     "outputs_hidden": true
    }
   },
   "outputs": [
    {
     "data": {
      "text/plain": [
       "0"
      ]
     },
     "execution_count": 56,
     "metadata": {},
     "output_type": "execute_result"
    }
   ],
   "source": [
    "train.Variable12.isnull().sum()"
   ]
  },
  {
   "cell_type": "code",
   "execution_count": 8,
   "metadata": {
    "jupyter": {
     "outputs_hidden": true
    }
   },
   "outputs": [
    {
     "data": {
      "text/plain": [
       "(199609, 24)"
      ]
     },
     "execution_count": 8,
     "metadata": {},
     "output_type": "execute_result"
    }
   ],
   "source": [
    "#Categorical Variable with missing values more than 60% is to be dropped\n",
    "#Variable16, Variable20, Variable23, Variable25\n",
    "train=train.drop(columns=['Variable16','Variable20', 'Variable23', 'Variable25'], axis=1)\n",
    "train.shape"
   ]
  },
  {
   "cell_type": "code",
   "execution_count": 10,
   "metadata": {
    "jupyter": {
     "outputs_hidden": true
    }
   },
   "outputs": [],
   "source": [
    "#Variable 5 is Date - MMM Year Format\n",
    "#its better to convert them into numbers\n",
    "# import datetime\n",
    "import datetime\n",
    "from datetime import date\n",
    "from dateutil.parser import parse"
   ]
  },
  {
   "cell_type": "code",
   "execution_count": 112,
   "metadata": {
    "collapsed": true,
    "jupyter": {
     "outputs_hidden": true
    }
   },
   "outputs": [
    {
     "name": "stdout",
     "output_type": "stream",
     "text": [
      "2016-04-01 00:00:00\n"
     ]
    }
   ],
   "source": [
    "#Checking\n",
    "print(datetime.datetime.strptime(dt_min, \"%b-%y\"))"
   ]
  },
  {
   "cell_type": "code",
   "execution_count": 11,
   "metadata": {
    "jupyter": {
     "outputs_hidden": true
    }
   },
   "outputs": [
    {
     "data": {
      "text/plain": [
       "0    May-16\n",
       "1    Feb-17\n",
       "2    Dec-15\n",
       "3    Sep-16\n",
       "4    Feb-16\n",
       "Name: Variable5, dtype: object"
      ]
     },
     "execution_count": 11,
     "metadata": {},
     "output_type": "execute_result"
    }
   ],
   "source": [
    "dt=train.Variable5\n",
    "dt.head()"
   ]
  },
  {
   "cell_type": "code",
   "execution_count": 12,
   "metadata": {
    "jupyter": {
     "outputs_hidden": true
    }
   },
   "outputs": [],
   "source": [
    "#Converting Variable5 into date\n",
    "train.Variable5=[datetime.datetime.strptime(x, '%b-%y') for x in dt]"
   ]
  },
  {
   "cell_type": "code",
   "execution_count": 13,
   "metadata": {
    "jupyter": {
     "outputs_hidden": true
    }
   },
   "outputs": [
    {
     "data": {
      "text/plain": [
       "Timestamp('2015-11-01 00:00:00')"
      ]
     },
     "execution_count": 13,
     "metadata": {},
     "output_type": "execute_result"
    }
   ],
   "source": [
    "dt_min=train.Variable5.min()\n",
    "dt_min"
   ]
  },
  {
   "cell_type": "code",
   "execution_count": 14,
   "metadata": {
    "jupyter": {
     "outputs_hidden": true
    }
   },
   "outputs": [
    {
     "data": {
      "text/plain": [
       "0   182 days\n",
       "1   458 days\n",
       "2    30 days\n",
       "3   305 days\n",
       "4    92 days\n",
       "Name: Variable5_Dt, dtype: timedelta64[ns]"
      ]
     },
     "execution_count": 14,
     "metadata": {},
     "output_type": "execute_result"
    }
   ],
   "source": [
    "\n",
    "train[\"Variable5_Dt\"]=(train.Variable5-dt_min)\n",
    "train.Variable5_Dt.head()"
   ]
  },
  {
   "cell_type": "code",
   "execution_count": 15,
   "metadata": {},
   "outputs": [
    {
     "data": {
      "text/plain": [
       "0    182.0\n",
       "1    458.0\n",
       "2     30.0\n",
       "3    305.0\n",
       "4     92.0\n",
       "Name: Variable5_Dt1, dtype: float64"
      ]
     },
     "execution_count": 15,
     "metadata": {},
     "output_type": "execute_result"
    }
   ],
   "source": [
    "#train[\"Variable5_dt1\"]=train.Variable5_Dt.str.split(\" \")\n",
    "train['Variable5_Dt1']=train.Variable5_Dt.astype('timedelta64[D]')\n",
    "train.Variable5_Dt1.head()"
   ]
  },
  {
   "cell_type": "code",
   "execution_count": 146,
   "metadata": {
    "collapsed": true,
    "jupyter": {
     "outputs_hidden": true
    }
   },
   "outputs": [
    {
     "data": {
      "text/html": [
       "<div>\n",
       "<style scoped>\n",
       "    .dataframe tbody tr th:only-of-type {\n",
       "        vertical-align: middle;\n",
       "    }\n",
       "\n",
       "    .dataframe tbody tr th {\n",
       "        vertical-align: top;\n",
       "    }\n",
       "\n",
       "    .dataframe thead th {\n",
       "        text-align: right;\n",
       "    }\n",
       "</style>\n",
       "<table border=\"1\" class=\"dataframe\">\n",
       "  <thead>\n",
       "    <tr style=\"text-align: right;\">\n",
       "      <th></th>\n",
       "      <th>Variable1</th>\n",
       "      <th>Variable2</th>\n",
       "      <th>Variable3</th>\n",
       "      <th>Variable4</th>\n",
       "      <th>Variable5</th>\n",
       "      <th>Variable6</th>\n",
       "      <th>Variable8</th>\n",
       "      <th>Variable9</th>\n",
       "      <th>Variable10</th>\n",
       "      <th>Variable11</th>\n",
       "      <th>...</th>\n",
       "      <th>Variable19</th>\n",
       "      <th>Variable22</th>\n",
       "      <th>Variable24</th>\n",
       "      <th>Variable26</th>\n",
       "      <th>Variable27</th>\n",
       "      <th>Variable28</th>\n",
       "      <th>Target</th>\n",
       "      <th>Variable7_M</th>\n",
       "      <th>Variable5_Dt</th>\n",
       "      <th>Variable5_Dt1</th>\n",
       "    </tr>\n",
       "  </thead>\n",
       "  <tbody>\n",
       "    <tr>\n",
       "      <th>0</th>\n",
       "      <td>1</td>\n",
       "      <td>ARO-4742</td>\n",
       "      <td>1</td>\n",
       "      <td>APHRNG1692</td>\n",
       "      <td>2016-05-01</td>\n",
       "      <td>N</td>\n",
       "      <td>Col-6930</td>\n",
       "      <td>PKSA016674</td>\n",
       "      <td>USG1</td>\n",
       "      <td>LOTYPE1000</td>\n",
       "      <td>...</td>\n",
       "      <td>LKSA18434</td>\n",
       "      <td>VAR SULP TT3 PS</td>\n",
       "      <td>N</td>\n",
       "      <td>COM2</td>\n",
       "      <td>1150.0</td>\n",
       "      <td>MFTRC322</td>\n",
       "      <td>0</td>\n",
       "      <td>1</td>\n",
       "      <td>182 days</td>\n",
       "      <td>182.0</td>\n",
       "    </tr>\n",
       "    <tr>\n",
       "      <th>1</th>\n",
       "      <td>2</td>\n",
       "      <td>ARO-4928</td>\n",
       "      <td>2</td>\n",
       "      <td>APFPTV9946</td>\n",
       "      <td>2017-02-01</td>\n",
       "      <td>N</td>\n",
       "      <td>Col-6930</td>\n",
       "      <td>PA2Z013889</td>\n",
       "      <td>USG4</td>\n",
       "      <td>LOTYPE500</td>\n",
       "      <td>...</td>\n",
       "      <td>LA2Z11295</td>\n",
       "      <td>VAR SULP TT4</td>\n",
       "      <td>N</td>\n",
       "      <td>COM1</td>\n",
       "      <td>1150.0</td>\n",
       "      <td>MFTRC322</td>\n",
       "      <td>0</td>\n",
       "      <td>1</td>\n",
       "      <td>458 days</td>\n",
       "      <td>458.0</td>\n",
       "    </tr>\n",
       "    <tr>\n",
       "      <th>2</th>\n",
       "      <td>3</td>\n",
       "      <td>ARO-3778</td>\n",
       "      <td>2</td>\n",
       "      <td>APHRNG1692</td>\n",
       "      <td>2015-12-01</td>\n",
       "      <td>NaN</td>\n",
       "      <td>Col-4259</td>\n",
       "      <td>PCEM018562</td>\n",
       "      <td>USG4</td>\n",
       "      <td>LOTYPE1000</td>\n",
       "      <td>...</td>\n",
       "      <td>LCEM41939</td>\n",
       "      <td>VAR SULP DI TT3</td>\n",
       "      <td>N</td>\n",
       "      <td>COM3</td>\n",
       "      <td>1150.0</td>\n",
       "      <td>MFTRC322</td>\n",
       "      <td>0</td>\n",
       "      <td>1</td>\n",
       "      <td>30 days</td>\n",
       "      <td>30.0</td>\n",
       "    </tr>\n",
       "    <tr>\n",
       "      <th>3</th>\n",
       "      <td>4</td>\n",
       "      <td>ARO-4998</td>\n",
       "      <td>1</td>\n",
       "      <td>APFPTV154265</td>\n",
       "      <td>2016-09-01</td>\n",
       "      <td>N</td>\n",
       "      <td>Col-4259</td>\n",
       "      <td>PTRW14933</td>\n",
       "      <td>USG4</td>\n",
       "      <td>LOTYPE500</td>\n",
       "      <td>...</td>\n",
       "      <td>LTW013178</td>\n",
       "      <td>VAR SULP DI TT3 PS</td>\n",
       "      <td>N</td>\n",
       "      <td>COM1</td>\n",
       "      <td>1000.0</td>\n",
       "      <td>MFTRC322</td>\n",
       "      <td>0</td>\n",
       "      <td>1</td>\n",
       "      <td>305 days</td>\n",
       "      <td>305.0</td>\n",
       "    </tr>\n",
       "    <tr>\n",
       "      <th>4</th>\n",
       "      <td>5</td>\n",
       "      <td>ARO-3627</td>\n",
       "      <td>2</td>\n",
       "      <td>APHRNG1692</td>\n",
       "      <td>2016-02-01</td>\n",
       "      <td>N</td>\n",
       "      <td>Col-4259</td>\n",
       "      <td>PAM0026696</td>\n",
       "      <td>USG1</td>\n",
       "      <td>LOTYPE1000</td>\n",
       "      <td>...</td>\n",
       "      <td>LAUM32146</td>\n",
       "      <td>VAR SULP TT4 PS</td>\n",
       "      <td>N</td>\n",
       "      <td>COM1</td>\n",
       "      <td>1150.0</td>\n",
       "      <td>MAHEC465</td>\n",
       "      <td>0</td>\n",
       "      <td>1</td>\n",
       "      <td>92 days</td>\n",
       "      <td>92.0</td>\n",
       "    </tr>\n",
       "  </tbody>\n",
       "</table>\n",
       "<p>5 rows × 26 columns</p>\n",
       "</div>"
      ],
      "text/plain": [
       "   Variable1 Variable2  Variable3     Variable4  Variable5 Variable6  \\\n",
       "0          1  ARO-4742          1    APHRNG1692 2016-05-01         N   \n",
       "1          2  ARO-4928          2    APFPTV9946 2017-02-01         N   \n",
       "2          3  ARO-3778          2    APHRNG1692 2015-12-01       NaN   \n",
       "3          4  ARO-4998          1  APFPTV154265 2016-09-01         N   \n",
       "4          5  ARO-3627          2    APHRNG1692 2016-02-01         N   \n",
       "\n",
       "  Variable8   Variable9 Variable10  Variable11  ...  Variable19  \\\n",
       "0  Col-6930  PKSA016674       USG1  LOTYPE1000  ...   LKSA18434   \n",
       "1  Col-6930  PA2Z013889       USG4   LOTYPE500  ...   LA2Z11295   \n",
       "2  Col-4259  PCEM018562       USG4  LOTYPE1000  ...   LCEM41939   \n",
       "3  Col-4259   PTRW14933       USG4   LOTYPE500  ...   LTW013178   \n",
       "4  Col-4259  PAM0026696       USG1  LOTYPE1000  ...   LAUM32146   \n",
       "\n",
       "           Variable22 Variable24 Variable26 Variable27 Variable28 Target  \\\n",
       "0     VAR SULP TT3 PS          N       COM2     1150.0   MFTRC322      0   \n",
       "1        VAR SULP TT4          N       COM1     1150.0   MFTRC322      0   \n",
       "2     VAR SULP DI TT3          N       COM3     1150.0   MFTRC322      0   \n",
       "3  VAR SULP DI TT3 PS          N       COM1     1000.0   MFTRC322      0   \n",
       "4     VAR SULP TT4 PS          N       COM1     1150.0   MAHEC465      0   \n",
       "\n",
       "  Variable7_M Variable5_Dt Variable5_Dt1  \n",
       "0           1     182 days         182.0  \n",
       "1           1     458 days         458.0  \n",
       "2           1      30 days          30.0  \n",
       "3           1     305 days         305.0  \n",
       "4           1      92 days          92.0  \n",
       "\n",
       "[5 rows x 26 columns]"
      ]
     },
     "execution_count": 146,
     "metadata": {},
     "output_type": "execute_result"
    }
   ],
   "source": [
    "train.head()"
   ]
  },
  {
   "cell_type": "code",
   "execution_count": 16,
   "metadata": {
    "jupyter": {
     "outputs_hidden": true
    }
   },
   "outputs": [
    {
     "data": {
      "text/plain": [
       "(199609, 24)"
      ]
     },
     "execution_count": 16,
     "metadata": {},
     "output_type": "execute_result"
    }
   ],
   "source": [
    "#Dropping Variable5 and Variable5_Dt as we have variable5_Dt1 as new variable\n",
    "train=train.drop(columns=['Variable5_Dt','Variable5'], axis=1)\n",
    "train.shape"
   ]
  },
  {
   "cell_type": "code",
   "execution_count": 17,
   "metadata": {
    "jupyter": {
     "outputs_hidden": true
    }
   },
   "outputs": [],
   "source": [
    "#Create Dataset for categorical or binary variables\n",
    "train_cat=train.select_dtypes(include = ['object'])"
   ]
  },
  {
   "cell_type": "code",
   "execution_count": 18,
   "metadata": {
    "jupyter": {
     "outputs_hidden": true
    }
   },
   "outputs": [
    {
     "data": {
      "text/plain": [
       "Index(['Variable1', 'Variable2', 'Variable3', 'Variable4', 'Variable6',\n",
       "       'Variable8', 'Variable9', 'Variable10', 'Variable11', 'Variable12',\n",
       "       'Variable13', 'Variable14', 'Variable15', 'Variable17', 'Variable18',\n",
       "       'Variable19', 'Variable22', 'Variable24', 'Variable26', 'Variable27',\n",
       "       'Variable28', 'Target', 'Variable7_M', 'Variable5_Dt1'],\n",
       "      dtype='object')"
      ]
     },
     "execution_count": 18,
     "metadata": {},
     "output_type": "execute_result"
    }
   ],
   "source": [
    "#variable to keep in train\n",
    "col=['Variable3','Variable5_Dt1', 'Variable7_M', 'Variable12','Variable27']\n",
    "train.columns"
   ]
  },
  {
   "cell_type": "code",
   "execution_count": 19,
   "metadata": {},
   "outputs": [
    {
     "name": "stdout",
     "output_type": "stream",
     "text": [
      "0    0\n",
      "1    0\n",
      "2    0\n",
      "3    0\n",
      "4    0\n",
      "Name: Target, dtype: int64\n",
      "   Variable3  Variable5_Dt1  Variable7_M  Variable12  Variable27\n",
      "0          1          182.0            1       180.0      1150.0\n",
      "1          2          458.0            1        80.0      1150.0\n",
      "2          2           30.0            1       100.0      1150.0\n",
      "3          1          305.0            1       300.0      1000.0\n",
      "4          2           92.0            1       100.0      1150.0\n"
     ]
    }
   ],
   "source": [
    "#features and traget\n",
    "y=train.Target\n",
    "X=train[col]\n",
    "print(y.head())\n",
    "print(X.head())"
   ]
  },
  {
   "cell_type": "code",
   "execution_count": 96,
   "metadata": {
    "collapsed": true,
    "jupyter": {
     "outputs_hidden": true
    }
   },
   "outputs": [
    {
     "data": {
      "text/html": [
       "<div>\n",
       "<style scoped>\n",
       "    .dataframe tbody tr th:only-of-type {\n",
       "        vertical-align: middle;\n",
       "    }\n",
       "\n",
       "    .dataframe tbody tr th {\n",
       "        vertical-align: top;\n",
       "    }\n",
       "\n",
       "    .dataframe thead th {\n",
       "        text-align: right;\n",
       "    }\n",
       "</style>\n",
       "<table border=\"1\" class=\"dataframe\">\n",
       "  <thead>\n",
       "    <tr style=\"text-align: right;\">\n",
       "      <th></th>\n",
       "      <th>Variable2</th>\n",
       "      <th>Variable4</th>\n",
       "      <th>Variable5</th>\n",
       "      <th>Variable6</th>\n",
       "      <th>Variable8</th>\n",
       "      <th>Variable9</th>\n",
       "      <th>Variable10</th>\n",
       "      <th>Variable11</th>\n",
       "      <th>Variable13</th>\n",
       "      <th>Variable14</th>\n",
       "      <th>Variable15</th>\n",
       "      <th>Variable17</th>\n",
       "      <th>Variable18</th>\n",
       "      <th>Variable19</th>\n",
       "      <th>Variable22</th>\n",
       "      <th>Variable24</th>\n",
       "      <th>Variable26</th>\n",
       "      <th>Variable28</th>\n",
       "    </tr>\n",
       "  </thead>\n",
       "  <tbody>\n",
       "    <tr>\n",
       "      <th>count</th>\n",
       "      <td>199609</td>\n",
       "      <td>199609</td>\n",
       "      <td>199609</td>\n",
       "      <td>153218</td>\n",
       "      <td>199609</td>\n",
       "      <td>199609</td>\n",
       "      <td>199609</td>\n",
       "      <td>199609</td>\n",
       "      <td>199609</td>\n",
       "      <td>199609</td>\n",
       "      <td>199609</td>\n",
       "      <td>199609</td>\n",
       "      <td>141070</td>\n",
       "      <td>199609</td>\n",
       "      <td>199609</td>\n",
       "      <td>199609</td>\n",
       "      <td>199609</td>\n",
       "      <td>199609</td>\n",
       "    </tr>\n",
       "    <tr>\n",
       "      <th>unique</th>\n",
       "      <td>20</td>\n",
       "      <td>20</td>\n",
       "      <td>17</td>\n",
       "      <td>2</td>\n",
       "      <td>13</td>\n",
       "      <td>270</td>\n",
       "      <td>4</td>\n",
       "      <td>3</td>\n",
       "      <td>24</td>\n",
       "      <td>5</td>\n",
       "      <td>5</td>\n",
       "      <td>17</td>\n",
       "      <td>6</td>\n",
       "      <td>540</td>\n",
       "      <td>16</td>\n",
       "      <td>2</td>\n",
       "      <td>3</td>\n",
       "      <td>63</td>\n",
       "    </tr>\n",
       "    <tr>\n",
       "      <th>top</th>\n",
       "      <td>ARO-1926</td>\n",
       "      <td>APHRNG1692</td>\n",
       "      <td>Oct-16</td>\n",
       "      <td>N</td>\n",
       "      <td>Col-4259</td>\n",
       "      <td>PINR14118</td>\n",
       "      <td>USG4</td>\n",
       "      <td>LOTYPE500</td>\n",
       "      <td>SC-80722</td>\n",
       "      <td>D452</td>\n",
       "      <td>Type-206</td>\n",
       "      <td>MFTRV9754</td>\n",
       "      <td>N</td>\n",
       "      <td>LSA011380</td>\n",
       "      <td>VAR SULP TT4 PS</td>\n",
       "      <td>N</td>\n",
       "      <td>COM1</td>\n",
       "      <td>MFTRC322</td>\n",
       "    </tr>\n",
       "    <tr>\n",
       "      <th>freq</th>\n",
       "      <td>24703</td>\n",
       "      <td>70835</td>\n",
       "      <td>14113</td>\n",
       "      <td>145031</td>\n",
       "      <td>114212</td>\n",
       "      <td>4532</td>\n",
       "      <td>96922</td>\n",
       "      <td>102626</td>\n",
       "      <td>126919</td>\n",
       "      <td>68041</td>\n",
       "      <td>147501</td>\n",
       "      <td>174719</td>\n",
       "      <td>121065</td>\n",
       "      <td>3350</td>\n",
       "      <td>43735</td>\n",
       "      <td>199471</td>\n",
       "      <td>130680</td>\n",
       "      <td>174719</td>\n",
       "    </tr>\n",
       "  </tbody>\n",
       "</table>\n",
       "</div>"
      ],
      "text/plain": [
       "       Variable2   Variable4 Variable5 Variable6 Variable8  Variable9  \\\n",
       "count     199609      199609    199609    153218    199609     199609   \n",
       "unique        20          20        17         2        13        270   \n",
       "top     ARO-1926  APHRNG1692    Oct-16         N  Col-4259  PINR14118   \n",
       "freq       24703       70835     14113    145031    114212       4532   \n",
       "\n",
       "       Variable10 Variable11 Variable13 Variable14 Variable15 Variable17  \\\n",
       "count      199609     199609     199609     199609     199609     199609   \n",
       "unique          4          3         24          5          5         17   \n",
       "top          USG4  LOTYPE500   SC-80722       D452   Type-206  MFTRV9754   \n",
       "freq        96922     102626     126919      68041     147501     174719   \n",
       "\n",
       "       Variable18 Variable19       Variable22 Variable24 Variable26 Variable28  \n",
       "count      141070     199609           199609     199609     199609     199609  \n",
       "unique          6        540               16          2          3         63  \n",
       "top             N  LSA011380  VAR SULP TT4 PS          N       COM1   MFTRC322  \n",
       "freq       121065       3350            43735     199471     130680     174719  "
      ]
     },
     "execution_count": 96,
     "metadata": {},
     "output_type": "execute_result"
    }
   ],
   "source": [
    "train_cat.describe()"
   ]
  },
  {
   "cell_type": "code",
   "execution_count": 20,
   "metadata": {
    "jupyter": {
     "outputs_hidden": true
    }
   },
   "outputs": [
    {
     "ename": "KeyError",
     "evalue": "\"['Variable5'] not found in axis\"",
     "output_type": "error",
     "traceback": [
      "\u001b[1;31m---------------------------------------------------------------------------\u001b[0m",
      "\u001b[1;31mKeyError\u001b[0m                                  Traceback (most recent call last)",
      "\u001b[1;32m<ipython-input-20-cdb7d6bbe226>\u001b[0m in \u001b[0;36m<module>\u001b[1;34m\u001b[0m\n\u001b[0;32m      1\u001b[0m \u001b[1;31m#Dropping Variable5 from train_cat since its a date\u001b[0m\u001b[1;33m\u001b[0m\u001b[1;33m\u001b[0m\u001b[1;33m\u001b[0m\u001b[0m\n\u001b[1;32m----> 2\u001b[1;33m \u001b[0mtrain_cat\u001b[0m\u001b[1;33m.\u001b[0m\u001b[0mdrop\u001b[0m\u001b[1;33m(\u001b[0m\u001b[0mcolumns\u001b[0m\u001b[1;33m=\u001b[0m\u001b[1;33m[\u001b[0m\u001b[1;34m'Variable5'\u001b[0m\u001b[1;33m]\u001b[0m\u001b[1;33m,\u001b[0m \u001b[0minplace\u001b[0m\u001b[1;33m=\u001b[0m\u001b[1;32mTrue\u001b[0m\u001b[1;33m)\u001b[0m\u001b[1;33m\u001b[0m\u001b[1;33m\u001b[0m\u001b[0m\n\u001b[0m\u001b[0;32m      3\u001b[0m \u001b[0mtrain_cat\u001b[0m\u001b[1;33m.\u001b[0m\u001b[0mshape\u001b[0m\u001b[1;33m\u001b[0m\u001b[1;33m\u001b[0m\u001b[0m\n",
      "\u001b[1;32m~\\Anaconda3\\lib\\site-packages\\pandas\\core\\frame.py\u001b[0m in \u001b[0;36mdrop\u001b[1;34m(self, labels, axis, index, columns, level, inplace, errors)\u001b[0m\n\u001b[0;32m   3938\u001b[0m                                            \u001b[0mindex\u001b[0m\u001b[1;33m=\u001b[0m\u001b[0mindex\u001b[0m\u001b[1;33m,\u001b[0m \u001b[0mcolumns\u001b[0m\u001b[1;33m=\u001b[0m\u001b[0mcolumns\u001b[0m\u001b[1;33m,\u001b[0m\u001b[1;33m\u001b[0m\u001b[1;33m\u001b[0m\u001b[0m\n\u001b[0;32m   3939\u001b[0m                                            \u001b[0mlevel\u001b[0m\u001b[1;33m=\u001b[0m\u001b[0mlevel\u001b[0m\u001b[1;33m,\u001b[0m \u001b[0minplace\u001b[0m\u001b[1;33m=\u001b[0m\u001b[0minplace\u001b[0m\u001b[1;33m,\u001b[0m\u001b[1;33m\u001b[0m\u001b[1;33m\u001b[0m\u001b[0m\n\u001b[1;32m-> 3940\u001b[1;33m                                            errors=errors)\n\u001b[0m\u001b[0;32m   3941\u001b[0m \u001b[1;33m\u001b[0m\u001b[0m\n\u001b[0;32m   3942\u001b[0m     @rewrite_axis_style_signature('mapper', [('copy', True),\n",
      "\u001b[1;32m~\\Anaconda3\\lib\\site-packages\\pandas\\core\\generic.py\u001b[0m in \u001b[0;36mdrop\u001b[1;34m(self, labels, axis, index, columns, level, inplace, errors)\u001b[0m\n\u001b[0;32m   3778\u001b[0m         \u001b[1;32mfor\u001b[0m \u001b[0maxis\u001b[0m\u001b[1;33m,\u001b[0m \u001b[0mlabels\u001b[0m \u001b[1;32min\u001b[0m \u001b[0maxes\u001b[0m\u001b[1;33m.\u001b[0m\u001b[0mitems\u001b[0m\u001b[1;33m(\u001b[0m\u001b[1;33m)\u001b[0m\u001b[1;33m:\u001b[0m\u001b[1;33m\u001b[0m\u001b[1;33m\u001b[0m\u001b[0m\n\u001b[0;32m   3779\u001b[0m             \u001b[1;32mif\u001b[0m \u001b[0mlabels\u001b[0m \u001b[1;32mis\u001b[0m \u001b[1;32mnot\u001b[0m \u001b[1;32mNone\u001b[0m\u001b[1;33m:\u001b[0m\u001b[1;33m\u001b[0m\u001b[1;33m\u001b[0m\u001b[0m\n\u001b[1;32m-> 3780\u001b[1;33m                 \u001b[0mobj\u001b[0m \u001b[1;33m=\u001b[0m \u001b[0mobj\u001b[0m\u001b[1;33m.\u001b[0m\u001b[0m_drop_axis\u001b[0m\u001b[1;33m(\u001b[0m\u001b[0mlabels\u001b[0m\u001b[1;33m,\u001b[0m \u001b[0maxis\u001b[0m\u001b[1;33m,\u001b[0m \u001b[0mlevel\u001b[0m\u001b[1;33m=\u001b[0m\u001b[0mlevel\u001b[0m\u001b[1;33m,\u001b[0m \u001b[0merrors\u001b[0m\u001b[1;33m=\u001b[0m\u001b[0merrors\u001b[0m\u001b[1;33m)\u001b[0m\u001b[1;33m\u001b[0m\u001b[1;33m\u001b[0m\u001b[0m\n\u001b[0m\u001b[0;32m   3781\u001b[0m \u001b[1;33m\u001b[0m\u001b[0m\n\u001b[0;32m   3782\u001b[0m         \u001b[1;32mif\u001b[0m \u001b[0minplace\u001b[0m\u001b[1;33m:\u001b[0m\u001b[1;33m\u001b[0m\u001b[1;33m\u001b[0m\u001b[0m\n",
      "\u001b[1;32m~\\Anaconda3\\lib\\site-packages\\pandas\\core\\generic.py\u001b[0m in \u001b[0;36m_drop_axis\u001b[1;34m(self, labels, axis, level, errors)\u001b[0m\n\u001b[0;32m   3810\u001b[0m                 \u001b[0mnew_axis\u001b[0m \u001b[1;33m=\u001b[0m \u001b[0maxis\u001b[0m\u001b[1;33m.\u001b[0m\u001b[0mdrop\u001b[0m\u001b[1;33m(\u001b[0m\u001b[0mlabels\u001b[0m\u001b[1;33m,\u001b[0m \u001b[0mlevel\u001b[0m\u001b[1;33m=\u001b[0m\u001b[0mlevel\u001b[0m\u001b[1;33m,\u001b[0m \u001b[0merrors\u001b[0m\u001b[1;33m=\u001b[0m\u001b[0merrors\u001b[0m\u001b[1;33m)\u001b[0m\u001b[1;33m\u001b[0m\u001b[1;33m\u001b[0m\u001b[0m\n\u001b[0;32m   3811\u001b[0m             \u001b[1;32melse\u001b[0m\u001b[1;33m:\u001b[0m\u001b[1;33m\u001b[0m\u001b[1;33m\u001b[0m\u001b[0m\n\u001b[1;32m-> 3812\u001b[1;33m                 \u001b[0mnew_axis\u001b[0m \u001b[1;33m=\u001b[0m \u001b[0maxis\u001b[0m\u001b[1;33m.\u001b[0m\u001b[0mdrop\u001b[0m\u001b[1;33m(\u001b[0m\u001b[0mlabels\u001b[0m\u001b[1;33m,\u001b[0m \u001b[0merrors\u001b[0m\u001b[1;33m=\u001b[0m\u001b[0merrors\u001b[0m\u001b[1;33m)\u001b[0m\u001b[1;33m\u001b[0m\u001b[1;33m\u001b[0m\u001b[0m\n\u001b[0m\u001b[0;32m   3813\u001b[0m             \u001b[0mresult\u001b[0m \u001b[1;33m=\u001b[0m \u001b[0mself\u001b[0m\u001b[1;33m.\u001b[0m\u001b[0mreindex\u001b[0m\u001b[1;33m(\u001b[0m\u001b[1;33m**\u001b[0m\u001b[1;33m{\u001b[0m\u001b[0maxis_name\u001b[0m\u001b[1;33m:\u001b[0m \u001b[0mnew_axis\u001b[0m\u001b[1;33m}\u001b[0m\u001b[1;33m)\u001b[0m\u001b[1;33m\u001b[0m\u001b[1;33m\u001b[0m\u001b[0m\n\u001b[0;32m   3814\u001b[0m \u001b[1;33m\u001b[0m\u001b[0m\n",
      "\u001b[1;32m~\\Anaconda3\\lib\\site-packages\\pandas\\core\\indexes\\base.py\u001b[0m in \u001b[0;36mdrop\u001b[1;34m(self, labels, errors)\u001b[0m\n\u001b[0;32m   4963\u001b[0m             \u001b[1;32mif\u001b[0m \u001b[0merrors\u001b[0m \u001b[1;33m!=\u001b[0m \u001b[1;34m'ignore'\u001b[0m\u001b[1;33m:\u001b[0m\u001b[1;33m\u001b[0m\u001b[1;33m\u001b[0m\u001b[0m\n\u001b[0;32m   4964\u001b[0m                 raise KeyError(\n\u001b[1;32m-> 4965\u001b[1;33m                     '{} not found in axis'.format(labels[mask]))\n\u001b[0m\u001b[0;32m   4966\u001b[0m             \u001b[0mindexer\u001b[0m \u001b[1;33m=\u001b[0m \u001b[0mindexer\u001b[0m\u001b[1;33m[\u001b[0m\u001b[1;33m~\u001b[0m\u001b[0mmask\u001b[0m\u001b[1;33m]\u001b[0m\u001b[1;33m\u001b[0m\u001b[1;33m\u001b[0m\u001b[0m\n\u001b[0;32m   4967\u001b[0m         \u001b[1;32mreturn\u001b[0m \u001b[0mself\u001b[0m\u001b[1;33m.\u001b[0m\u001b[0mdelete\u001b[0m\u001b[1;33m(\u001b[0m\u001b[0mindexer\u001b[0m\u001b[1;33m)\u001b[0m\u001b[1;33m\u001b[0m\u001b[1;33m\u001b[0m\u001b[0m\n",
      "\u001b[1;31mKeyError\u001b[0m: \"['Variable5'] not found in axis\""
     ]
    }
   ],
   "source": [
    "#Dropping Variable5 from train_cat since its a date\n",
    "train_cat.drop(columns=['Variable5'], inplace=True)\n",
    "train_cat.shape"
   ]
  },
  {
   "cell_type": "code",
   "execution_count": 98,
   "metadata": {
    "collapsed": true,
    "jupyter": {
     "outputs_hidden": true
    }
   },
   "outputs": [
    {
     "data": {
      "text/plain": [
       "Variable2         0\n",
       "Variable4         0\n",
       "Variable6     46391\n",
       "Variable8         0\n",
       "Variable9         0\n",
       "Variable10        0\n",
       "Variable11        0\n",
       "Variable13        0\n",
       "Variable14        0\n",
       "Variable15        0\n",
       "Variable17        0\n",
       "Variable18    58539\n",
       "Variable19        0\n",
       "Variable22        0\n",
       "Variable24        0\n",
       "Variable26        0\n",
       "Variable28        0\n",
       "dtype: int64"
      ]
     },
     "execution_count": 98,
     "metadata": {},
     "output_type": "execute_result"
    }
   ],
   "source": [
    "train_cat.isnull().sum()\n",
    "#Around 21 and 28% data misising in Variable 6 and variable 18\n",
    "#Its bettre to treat as a differnt class"
   ]
  },
  {
   "cell_type": "code",
   "execution_count": 21,
   "metadata": {
    "jupyter": {
     "outputs_hidden": true
    }
   },
   "outputs": [
    {
     "name": "stderr",
     "output_type": "stream",
     "text": [
      "C:\\Users\\acer\\Anaconda3\\lib\\site-packages\\pandas\\core\\generic.py:5096: SettingWithCopyWarning: \n",
      "A value is trying to be set on a copy of a slice from a DataFrame.\n",
      "Try using .loc[row_indexer,col_indexer] = value instead\n",
      "\n",
      "See the caveats in the documentation: http://pandas.pydata.org/pandas-docs/stable/indexing.html#indexing-view-versus-copy\n",
      "  self[name] = value\n"
     ]
    }
   ],
   "source": [
    "#Imputing Variable 6 and Variable 18 with separate class\n",
    "train_cat.Variable6=train_cat.Variable6.fillna(\"Blank\")\n",
    "train_cat.Variable18=train_cat.Variable18.fillna(\"Blank\")"
   ]
  },
  {
   "cell_type": "code",
   "execution_count": 22,
   "metadata": {
    "jupyter": {
     "outputs_hidden": true
    }
   },
   "outputs": [
    {
     "data": {
      "text/plain": [
       "Variable2     0\n",
       "Variable4     0\n",
       "Variable6     0\n",
       "Variable8     0\n",
       "Variable9     0\n",
       "Variable10    0\n",
       "Variable11    0\n",
       "Variable13    0\n",
       "Variable14    0\n",
       "Variable15    0\n",
       "Variable17    0\n",
       "Variable18    0\n",
       "Variable19    0\n",
       "Variable22    0\n",
       "Variable24    0\n",
       "Variable26    0\n",
       "Variable28    0\n",
       "dtype: int64"
      ]
     },
     "execution_count": 22,
     "metadata": {},
     "output_type": "execute_result"
    }
   ],
   "source": [
    "train_cat.isnull().sum()"
   ]
  },
  {
   "cell_type": "code",
   "execution_count": 104,
   "metadata": {
    "collapsed": true,
    "jupyter": {
     "outputs_hidden": true
    }
   },
   "outputs": [
    {
     "data": {
      "image/png": "[encoded data removed]",
      "text/plain": [
       "<Figure size 432x288 with 1 Axes>"
      ]
     },
     "metadata": {
      "needs_background": "light"
     },
     "output_type": "display_data"
    },
    {
     "name": "stderr",
     "output_type": "stream",
     "text": [
      "C:\\Users\\acer\\Anaconda3\\lib\\site-packages\\ipykernel_launcher.py:15: DeprecationWarning: \n",
      ".ix is deprecated. Please use\n",
      ".loc for label based indexing or\n",
      ".iloc for positional indexing\n",
      "\n",
      "See the documentation here:\n",
      "http://pandas.pydata.org/pandas-docs/stable/indexing.html#ix-indexer-is-deprecated\n",
      "  from ipykernel import kernelapp as app\n"
     ]
    },
    {
     "data": {
      "image/png": "[encoded data removed]",
      "text/plain": [
       "<Figure size 432x288 with 1 Axes>"
      ]
     },
     "metadata": {
      "needs_background": "light"
     },
     "output_type": "display_data"
    },
    {
     "data": {
      "image/png": "[encoded data removed]",
      "text/plain": [
       "<Figure size 432x288 with 1 Axes>"
      ]
     },
     "metadata": {
      "needs_background": "light"
     },
     "output_type": "display_data"
    },
    {
     "data": {
      "image/png": "[encoded data removed]",
      "text/plain": [
       "<Figure size 432x288 with 1 Axes>"
      ]
     },
     "metadata": {
      "needs_background": "light"
     },
     "output_type": "display_data"
    },
    {
     "data": {
      "image/png": "[encoded data removed]",
      "text/plain": [
       "<Figure size 432x288 with 1 Axes>"
      ]
     },
     "metadata": {
      "needs_background": "light"
     },
     "output_type": "display_data"
    },
    {
     "data": {
      "image/png": "[encoded data removed]",
      "text/plain": [
       "<Figure size 432x288 with 1 Axes>"
      ]
     },
     "metadata": {
      "needs_background": "light"
     },
     "output_type": "display_data"
    },
    {
     "data": {
      "image/png": "[encoded data removed]",
      "text/plain": [
       "<Figure size 432x288 with 1 Axes>"
      ]
     },
     "metadata": {
      "needs_background": "light"
     },
     "output_type": "display_data"
    },
    {
     "data": {
      "image/png": "[encoded data removed]",
      "text/plain": [
       "<Figure size 432x288 with 1 Axes>"
      ]
     },
     "metadata": {
      "needs_background": "light"
     },
     "output_type": "display_data"
    },
    {
     "data": {
      "image/png": "[encoded data removed]",
      "text/plain": [
       "<Figure size 432x288 with 1 Axes>"
      ]
     },
     "metadata": {
      "needs_background": "light"
     },
     "output_type": "display_data"
    },
    {
     "data": {
      "image/png": "[encoded data removed]",
      "text/plain": [
       "<Figure size 432x288 with 1 Axes>"
      ]
     },
     "metadata": {
      "needs_background": "light"
     },
     "output_type": "display_data"
    },
    {
     "data": {
      "image/png": "[encoded data removed]",
      "text/plain": [
       "<Figure size 432x288 with 1 Axes>"
      ]
     },
     "metadata": {
      "needs_background": "light"
     },
     "output_type": "display_data"
    },
    {
     "data": {
      "image/png": "[encoded data removed]",
      "text/plain": [
       "<Figure size 432x288 with 1 Axes>"
      ]
     },
     "metadata": {
      "needs_background": "light"
     },
     "output_type": "display_data"
    },
    {
     "data": {
      "image/png": "[encoded data removed]",
      "text/plain": [
       "<Figure size 432x288 with 1 Axes>"
      ]
     },
     "metadata": {
      "needs_background": "light"
     },
     "output_type": "display_data"
    },
    {
     "data": {
      "image/png": "[encoded data removed]",
      "text/plain": [
       "<Figure size 432x288 with 1 Axes>"
      ]
     },
     "metadata": {
      "needs_background": "light"
     },
     "output_type": "display_data"
    },
    {
     "data": {
      "image/png": "[encoded data removed]",
      "text/plain": [
       "<Figure size 432x288 with 1 Axes>"
      ]
     },
     "metadata": {
      "needs_background": "light"
     },
     "output_type": "display_data"
    },
    {
     "data": {
      "image/png": "[encoded data removed]",
      "text/plain": [
       "<Figure size 432x288 with 1 Axes>"
      ]
     },
     "metadata": {
      "needs_background": "light"
     },
     "output_type": "display_data"
    },
    {
     "data": {
      "image/png": "[encoded data removed]",
      "text/plain": [
       "<Figure size 432x288 with 1 Axes>"
      ]
     },
     "metadata": {
      "needs_background": "light"
     },
     "output_type": "display_data"
    },
    {
     "data": {
      "image/png": "[encoded data removed]",
      "text/plain": [
       "<Figure size 432x288 with 1 Axes>"
      ]
     },
     "metadata": {
      "needs_background": "light"
     },
     "output_type": "display_data"
    },
    {
     "data": {
      "image/png": "[encoded data removed]",
      "text/plain": [
       "<Figure size 432x288 with 1 Axes>"
      ]
     },
     "metadata": {
      "needs_background": "light"
     },
     "output_type": "display_data"
    },
    {
     "data": {
      "image/png": "[encoded data removed]",
      "text/plain": [
       "<Figure size 432x288 with 1 Axes>"
      ]
     },
     "metadata": {
      "needs_background": "light"
     },
     "output_type": "display_data"
    },
    {
     "data": {
      "image/png": "[encoded data removed]",
      "text/plain": [
       "<Figure size 432x288 with 1 Axes>"
      ]
     },
     "metadata": {
      "needs_background": "light"
     },
     "output_type": "display_data"
    },
    {
     "data": {
      "image/png": "[encoded data removed]",
      "text/plain": [
       "<Figure size 432x288 with 1 Axes>"
      ]
     },
     "metadata": {
      "needs_background": "light"
     },
     "output_type": "display_data"
    },
    {
     "data": {
      "image/png": "[encoded data removed]",
      "text/plain": [
       "<Figure size 432x288 with 1 Axes>"
      ]
     },
     "metadata": {
      "needs_background": "light"
     },
     "output_type": "display_data"
    },
    {
     "data": {
      "image/png": "[encoded data removed]",
      "text/plain": [
       "<Figure size 432x288 with 1 Axes>"
      ]
     },
     "metadata": {
      "needs_background": "light"
     },
     "output_type": "display_data"
    },
    {
     "data": {
      "image/png": "[encoded data removed]",
      "text/plain": [
       "<Figure size 432x288 with 1 Axes>"
      ]
     },
     "metadata": {
      "needs_background": "light"
     },
     "output_type": "display_data"
    },
    {
     "data": {
      "image/png": "[encoded data removed]",
      "text/plain": [
       "<Figure size 432x288 with 1 Axes>"
      ]
     },
     "metadata": {
      "needs_background": "light"
     },
     "output_type": "display_data"
    },
    {
     "data": {
      "image/png": "[encoded data removed]",
      "text/plain": [
       "<Figure size 432x288 with 1 Axes>"
      ]
     },
     "metadata": {
      "needs_background": "light"
     },
     "output_type": "display_data"
    },
    {
     "data": {
      "image/png": "[encoded data removed]",
      "text/plain": [
       "<Figure size 432x288 with 1 Axes>"
      ]
     },
     "metadata": {
      "needs_background": "light"
     },
     "output_type": "display_data"
    },
    {
     "data": {
      "image/png": "[encoded data removed]",
      "text/plain": [
       "<Figure size 432x288 with 1 Axes>"
      ]
     },
     "metadata": {
      "needs_background": "light"
     },
     "output_type": "display_data"
    },
    {
     "data": {
      "image/png": "[encoded data removed]",
      "text/plain": [
       "<Figure size 432x288 with 1 Axes>"
      ]
     },
     "metadata": {
      "needs_background": "light"
     },
     "output_type": "display_data"
    },
    {
     "data": {
      "image/png": "[encoded data removed]",
      "text/plain": [
       "<Figure size 432x288 with 1 Axes>"
      ]
     },
     "metadata": {
      "needs_background": "light"
     },
     "output_type": "display_data"
    },
    {
     "data": {
      "image/png": "[encoded data removed]",
      "text/plain": [
       "<Figure size 432x288 with 1 Axes>"
      ]
     },
     "metadata": {
      "needs_background": "light"
     },
     "output_type": "display_data"
    },
    {
     "data": {
      "image/png": "[encoded data removed]",
      "text/plain": [
       "<Figure size 432x288 with 1 Axes>"
      ]
     },
     "metadata": {
      "needs_background": "light"
     },
     "output_type": "display_data"
    },
    {
     "data": {
      "image/png": "[encoded data removed]",
      "text/plain": [
       "<Figure size 432x288 with 1 Axes>"
      ]
     },
     "metadata": {
      "needs_background": "light"
     },
     "output_type": "display_data"
    }
   ],
   "source": [
    "#Visualising Bar Plot of categorical col\n",
    "for col in range(len(train_cat.columns)):\n",
    "    counts = train_cat.iloc[:,col].value_counts()/train.shape[0]*100\n",
    "    #print(counts)\n",
    "    splot=sns.barplot(x=counts.index, y=counts)\n",
    "    plt.title(\"Overall\")\n",
    "    plt.ylabel('Count')\n",
    "    plt.xlabel(counts.name)\n",
    "    for p in splot.patches:#for annonating - reference stackoverflow\n",
    "        splot.annotate(format(p.get_height(), '.2f'), (p.get_x() + p.get_width() / 2., \n",
    "                        p.get_height()), ha = 'center', va = 'center', xytext = (0, 10), \n",
    "                        textcoords = 'offset points',fontsize=8)\n",
    "    plt.show()\n",
    "    #for class 1 target\n",
    "    counts = train_cat.ix[train.Target==1,col].value_counts()/train[train.Target==1].shape[0]*100\n",
    "    #print(counts)\n",
    "    splot=sns.barplot(x=counts.index, y=counts)\n",
    "    plt.title(\"Class 1\")\n",
    "    plt.ylabel('Count')\n",
    "    plt.xlabel(counts.name)\n",
    "    for p in splot.patches:#for annonating - reference stackoverflow\n",
    "        splot.annotate(format(p.get_height(), '.2f'), (p.get_x() + p.get_width() / 2., \n",
    "                        p.get_height()), ha = 'center', va = 'center', xytext = (0, 10), \n",
    "                        textcoords = 'offset points',fontsize=8)\n",
    "    plt.show()"
   ]
  },
  {
   "cell_type": "code",
   "execution_count": 105,
   "metadata": {
    "collapsed": true,
    "jupyter": {
     "outputs_hidden": true
    }
   },
   "outputs": [],
   "source": [
    "#Function for conducting chi square and deleting features which are not associated\n",
    "result=pd.DataFrame()\n",
    "def UDF_chiSqrTest(df,d=train):\n",
    "    from scipy.stats import chi2_contingency\n",
    "    b4=df.shape[1]\n",
    "    global result\n",
    "    for col in df:\n",
    "        cont_table=pd.crosstab(d.Target,df[col])\n",
    "        xsq,pvalue,dof,expected=chi2_contingency(cont_table)\n",
    "        print(col)\n",
    "        print(\"X Sqr: \",xsq,\" pvalue:\",pvalue)\n",
    "        if(pvalue>0.05):\n",
    "            print(\"Column to be DROPPED \\n \")\n",
    "            df=df.drop(col,axis=1)\n",
    "        else:    \n",
    "            print(\"Column Retained \\n \")\n",
    "    print(\"No of Columns Retained: \",df.shape[1])\n",
    "    print('Columns Retained:\\n',df.columns)\n",
    "    print(\"No of Columns Dropped: \",b4-df.shape[1])\n",
    "    result=df;#Storing result in test_result"
   ]
  },
  {
   "cell_type": "code",
   "execution_count": 106,
   "metadata": {
    "collapsed": true,
    "jupyter": {
     "outputs_hidden": true
    }
   },
   "outputs": [
    {
     "name": "stdout",
     "output_type": "stream",
     "text": [
      "Variable2\n",
      "X Sqr:  4338.926072932892  pvalue: 0.0\n",
      "Column Retained \n",
      " \n",
      "Variable4\n",
      "X Sqr:  1745.7732880062872  pvalue: 0.0\n",
      "Column Retained \n",
      " \n",
      "Variable6\n",
      "X Sqr:  32647.017590070085  pvalue: 0.0\n",
      "Column Retained \n",
      " \n",
      "Variable8\n",
      "X Sqr:  14725.900113109727  pvalue: 0.0\n",
      "Column Retained \n",
      " \n",
      "Variable9\n",
      "X Sqr:  12155.75426062639  pvalue: 0.0\n",
      "Column Retained \n",
      " \n",
      "Variable10\n",
      "X Sqr:  161.76572367132246  pvalue: 7.621895479075111e-35\n",
      "Column Retained \n",
      " \n",
      "Variable11\n",
      "X Sqr:  306.42036948105863  pvalue: 2.895090843765739e-67\n",
      "Column Retained \n",
      " \n",
      "Variable13\n",
      "X Sqr:  6953.824654581937  pvalue: 0.0\n",
      "Column Retained \n",
      " \n",
      "Variable14\n",
      "X Sqr:  2884.194496028509  pvalue: 0.0\n",
      "Column Retained \n",
      " \n",
      "Variable15\n",
      "X Sqr:  4859.59678894229  pvalue: 0.0\n",
      "Column Retained \n",
      " \n",
      "Variable17\n",
      "X Sqr:  1882.4012071915943  pvalue: 0.0\n",
      "Column Retained \n",
      " \n",
      "Variable18\n",
      "X Sqr:  54610.92650199451  pvalue: 0.0\n",
      "Column Retained \n",
      " \n",
      "Variable19\n",
      "X Sqr:  14096.87809964484  pvalue: 0.0\n",
      "Column Retained \n",
      " \n",
      "Variable22\n",
      "X Sqr:  17903.791143092076  pvalue: 0.0\n",
      "Column Retained \n",
      " \n",
      "Variable24\n",
      "X Sqr:  535.7843015365322  pvalue: 1.5579568176985819e-118\n",
      "Column Retained \n",
      " \n",
      "Variable26\n",
      "X Sqr:  346.238548640749  pvalue: 6.535133315992333e-76\n",
      "Column Retained \n",
      " \n",
      "Variable28\n",
      "X Sqr:  2100.581861214891  pvalue: 0.0\n",
      "Column Retained \n",
      " \n",
      "No of Columns Retained:  17\n",
      "Columns Retained:\n",
      " Index(['Variable2', 'Variable4', 'Variable6', 'Variable8', 'Variable9',\n",
      "       'Variable10', 'Variable11', 'Variable13', 'Variable14', 'Variable15',\n",
      "       'Variable17', 'Variable18', 'Variable19', 'Variable22', 'Variable24',\n",
      "       'Variable26', 'Variable28'],\n",
      "      dtype='object')\n",
      "No of Columns Dropped:  0\n"
     ]
    }
   ],
   "source": [
    "UDF_chiSqrTest(train_cat)"
   ]
  },
  {
   "cell_type": "code",
   "execution_count": 107,
   "metadata": {},
   "outputs": [
    {
     "name": "stdout",
     "output_type": "stream",
     "text": [
      "Variable2  :  20  Unique Categories\n",
      "Variable4  :  20  Unique Categories\n",
      "Variable6  :  3  Unique Categories\n",
      "Variable8  :  13  Unique Categories\n",
      "Variable9  :  270  Unique Categories\n",
      "Variable10  :  4  Unique Categories\n",
      "Variable11  :  3  Unique Categories\n",
      "Variable13  :  24  Unique Categories\n",
      "Variable14  :  5  Unique Categories\n",
      "Variable15  :  5  Unique Categories\n",
      "Variable17  :  17  Unique Categories\n",
      "Variable18  :  7  Unique Categories\n",
      "Variable19  :  540  Unique Categories\n",
      "Variable22  :  16  Unique Categories\n",
      "Variable24  :  2  Unique Categories\n",
      "Variable26  :  3  Unique Categories\n",
      "Variable28  :  63  Unique Categories\n"
     ]
    }
   ],
   "source": [
    "#From Bar plot and chi square test it is evident that all the variable are significant\n",
    "#Son no need to drop any column\n",
    "\n",
    "#Observing categorical counts in column  \n",
    "for col in train_cat:\n",
    "    #print(train_cat[col].value_counts())\n",
    "    print(col,\" : \",train_cat[col].value_counts().shape[0], ' Unique Categories')"
   ]
  },
  {
   "cell_type": "code",
   "execution_count": 108,
   "metadata": {
    "collapsed": true,
    "jupyter": {
     "outputs_hidden": true
    }
   },
   "outputs": [
    {
     "data": {
      "text/plain": [
       "Index(['Variable2', 'Variable4', 'Variable6', 'Variable8', 'Variable9',\n",
       "       'Variable10', 'Variable11', 'Variable13', 'Variable14', 'Variable15',\n",
       "       'Variable17', 'Variable18', 'Variable19', 'Variable22', 'Variable24',\n",
       "       'Variable26', 'Variable28'],\n",
       "      dtype='object')"
      ]
     },
     "execution_count": 108,
     "metadata": {},
     "output_type": "execute_result"
    }
   ],
   "source": [
    "#So now we need to craete dummy variables\n",
    "train_cat.columns"
   ]
  },
  {
   "cell_type": "code",
   "execution_count": 35,
   "metadata": {},
   "outputs": [
    {
     "data": {
      "text/html": [
       "<div>\n",
       "<style scoped>\n",
       "    .dataframe tbody tr th:only-of-type {\n",
       "        vertical-align: middle;\n",
       "    }\n",
       "\n",
       "    .dataframe tbody tr th {\n",
       "        vertical-align: top;\n",
       "    }\n",
       "\n",
       "    .dataframe thead th {\n",
       "        text-align: right;\n",
       "    }\n",
       "</style>\n",
       "<table border=\"1\" class=\"dataframe\">\n",
       "  <thead>\n",
       "    <tr style=\"text-align: right;\">\n",
       "      <th></th>\n",
       "      <th>Variable2_ARO-1926</th>\n",
       "      <th>Variable2_ARO-2179</th>\n",
       "      <th>Variable2_ARO-2201</th>\n",
       "      <th>Variable2_ARO-2441</th>\n",
       "      <th>Variable2_ARO-2734</th>\n",
       "      <th>Variable2_ARO-2812</th>\n",
       "      <th>Variable2_ARO-2917</th>\n",
       "      <th>Variable2_ARO-3076</th>\n",
       "      <th>Variable2_ARO-3608</th>\n",
       "      <th>Variable2_ARO-3627</th>\n",
       "      <th>...</th>\n",
       "      <th>Variable28_MTFC136</th>\n",
       "      <th>Variable28_MTGC410</th>\n",
       "      <th>Variable28_MTMC199</th>\n",
       "      <th>Variable28_MTTC212</th>\n",
       "      <th>Variable28_MTXC348</th>\n",
       "      <th>Variable28_MVKC205</th>\n",
       "      <th>Variable28_MVKRC387</th>\n",
       "      <th>Variable28_MWRC277</th>\n",
       "      <th>Variable28_MXYC496</th>\n",
       "      <th>Variable28_MZPC395</th>\n",
       "    </tr>\n",
       "  </thead>\n",
       "  <tbody>\n",
       "    <tr>\n",
       "      <th>0</th>\n",
       "      <td>0</td>\n",
       "      <td>0</td>\n",
       "      <td>0</td>\n",
       "      <td>0</td>\n",
       "      <td>0</td>\n",
       "      <td>0</td>\n",
       "      <td>0</td>\n",
       "      <td>0</td>\n",
       "      <td>0</td>\n",
       "      <td>0</td>\n",
       "      <td>...</td>\n",
       "      <td>0</td>\n",
       "      <td>0</td>\n",
       "      <td>0</td>\n",
       "      <td>0</td>\n",
       "      <td>0</td>\n",
       "      <td>0</td>\n",
       "      <td>0</td>\n",
       "      <td>0</td>\n",
       "      <td>0</td>\n",
       "      <td>0</td>\n",
       "    </tr>\n",
       "    <tr>\n",
       "      <th>1</th>\n",
       "      <td>0</td>\n",
       "      <td>0</td>\n",
       "      <td>0</td>\n",
       "      <td>0</td>\n",
       "      <td>0</td>\n",
       "      <td>0</td>\n",
       "      <td>0</td>\n",
       "      <td>0</td>\n",
       "      <td>0</td>\n",
       "      <td>0</td>\n",
       "      <td>...</td>\n",
       "      <td>0</td>\n",
       "      <td>0</td>\n",
       "      <td>0</td>\n",
       "      <td>0</td>\n",
       "      <td>0</td>\n",
       "      <td>0</td>\n",
       "      <td>0</td>\n",
       "      <td>0</td>\n",
       "      <td>0</td>\n",
       "      <td>0</td>\n",
       "    </tr>\n",
       "    <tr>\n",
       "      <th>2</th>\n",
       "      <td>0</td>\n",
       "      <td>0</td>\n",
       "      <td>0</td>\n",
       "      <td>0</td>\n",
       "      <td>0</td>\n",
       "      <td>0</td>\n",
       "      <td>0</td>\n",
       "      <td>0</td>\n",
       "      <td>0</td>\n",
       "      <td>0</td>\n",
       "      <td>...</td>\n",
       "      <td>0</td>\n",
       "      <td>0</td>\n",
       "      <td>0</td>\n",
       "      <td>0</td>\n",
       "      <td>0</td>\n",
       "      <td>0</td>\n",
       "      <td>0</td>\n",
       "      <td>0</td>\n",
       "      <td>0</td>\n",
       "      <td>0</td>\n",
       "    </tr>\n",
       "    <tr>\n",
       "      <th>3</th>\n",
       "      <td>0</td>\n",
       "      <td>0</td>\n",
       "      <td>0</td>\n",
       "      <td>0</td>\n",
       "      <td>0</td>\n",
       "      <td>0</td>\n",
       "      <td>0</td>\n",
       "      <td>0</td>\n",
       "      <td>0</td>\n",
       "      <td>0</td>\n",
       "      <td>...</td>\n",
       "      <td>0</td>\n",
       "      <td>0</td>\n",
       "      <td>0</td>\n",
       "      <td>0</td>\n",
       "      <td>0</td>\n",
       "      <td>0</td>\n",
       "      <td>0</td>\n",
       "      <td>0</td>\n",
       "      <td>0</td>\n",
       "      <td>0</td>\n",
       "    </tr>\n",
       "    <tr>\n",
       "      <th>4</th>\n",
       "      <td>0</td>\n",
       "      <td>0</td>\n",
       "      <td>0</td>\n",
       "      <td>0</td>\n",
       "      <td>0</td>\n",
       "      <td>0</td>\n",
       "      <td>0</td>\n",
       "      <td>0</td>\n",
       "      <td>0</td>\n",
       "      <td>1</td>\n",
       "      <td>...</td>\n",
       "      <td>0</td>\n",
       "      <td>0</td>\n",
       "      <td>0</td>\n",
       "      <td>0</td>\n",
       "      <td>0</td>\n",
       "      <td>0</td>\n",
       "      <td>0</td>\n",
       "      <td>0</td>\n",
       "      <td>0</td>\n",
       "      <td>0</td>\n",
       "    </tr>\n",
       "  </tbody>\n",
       "</table>\n",
       "<p>5 rows × 998 columns</p>\n",
       "</div>"
      ],
      "text/plain": [
       "   Variable2_ARO-1926  Variable2_ARO-2179  Variable2_ARO-2201  \\\n",
       "0                   0                   0                   0   \n",
       "1                   0                   0                   0   \n",
       "2                   0                   0                   0   \n",
       "3                   0                   0                   0   \n",
       "4                   0                   0                   0   \n",
       "\n",
       "   Variable2_ARO-2441  Variable2_ARO-2734  Variable2_ARO-2812  \\\n",
       "0                   0                   0                   0   \n",
       "1                   0                   0                   0   \n",
       "2                   0                   0                   0   \n",
       "3                   0                   0                   0   \n",
       "4                   0                   0                   0   \n",
       "\n",
       "   Variable2_ARO-2917  Variable2_ARO-3076  Variable2_ARO-3608  \\\n",
       "0                   0                   0                   0   \n",
       "1                   0                   0                   0   \n",
       "2                   0                   0                   0   \n",
       "3                   0                   0                   0   \n",
       "4                   0                   0                   0   \n",
       "\n",
       "   Variable2_ARO-3627  ...  Variable28_MTFC136  Variable28_MTGC410  \\\n",
       "0                   0  ...                   0                   0   \n",
       "1                   0  ...                   0                   0   \n",
       "2                   0  ...                   0                   0   \n",
       "3                   0  ...                   0                   0   \n",
       "4                   1  ...                   0                   0   \n",
       "\n",
       "   Variable28_MTMC199  Variable28_MTTC212  Variable28_MTXC348  \\\n",
       "0                   0                   0                   0   \n",
       "1                   0                   0                   0   \n",
       "2                   0                   0                   0   \n",
       "3                   0                   0                   0   \n",
       "4                   0                   0                   0   \n",
       "\n",
       "   Variable28_MVKC205  Variable28_MVKRC387  Variable28_MWRC277  \\\n",
       "0                   0                    0                   0   \n",
       "1                   0                    0                   0   \n",
       "2                   0                    0                   0   \n",
       "3                   0                    0                   0   \n",
       "4                   0                    0                   0   \n",
       "\n",
       "   Variable28_MXYC496  Variable28_MZPC395  \n",
       "0                   0                   0  \n",
       "1                   0                   0  \n",
       "2                   0                   0  \n",
       "3                   0                   0  \n",
       "4                   0                   0  \n",
       "\n",
       "[5 rows x 998 columns]"
      ]
     },
     "execution_count": 35,
     "metadata": {},
     "output_type": "execute_result"
    }
   ],
   "source": [
    "train_cat_dummy=pd.get_dummies(train_cat,columns=['Variable2', 'Variable4', 'Variable6', 'Variable8', 'Variable9',\n",
    "       'Variable10', 'Variable11', 'Variable13', 'Variable14', 'Variable15',\n",
    "       'Variable17', 'Variable18', 'Variable19', 'Variable22', 'Variable24',\n",
    "       'Variable26', 'Variable28'],drop_first=True)\n",
    "train_cat_dummy.head()"
   ]
  },
  {
   "cell_type": "code",
   "execution_count": null,
   "metadata": {},
   "outputs": [],
   "source": []
  },
  {
   "cell_type": "code",
   "execution_count": 157,
   "metadata": {},
   "outputs": [
    {
     "data": {
      "text/plain": [
       "(199609, 1003)"
      ]
     },
     "execution_count": 157,
     "metadata": {},
     "output_type": "execute_result"
    }
   ],
   "source": [
    "X=pd.concat((X,train_cat_dummy),axis=1)\n",
    "X.shape"
   ]
  },
  {
   "cell_type": "code",
   "execution_count": 158,
   "metadata": {
    "jupyter": {
     "outputs_hidden": true
    }
   },
   "outputs": [
    {
     "name": "stderr",
     "output_type": "stream",
     "text": [
      "C:\\Users\\acer\\Anaconda3\\lib\\site-packages\\sklearn\\preprocessing\\data.py:334: DataConversionWarning: Data with input dtype uint8, int32, int64, float64 were all converted to float64 by MinMaxScaler.\n",
      "  return self.partial_fit(X, y)\n"
     ]
    },
    {
     "data": {
      "text/plain": [
       "(199609, 1003)"
      ]
     },
     "execution_count": 158,
     "metadata": {},
     "output_type": "execute_result"
    }
   ],
   "source": [
    "#Scaling Data\n",
    "from sklearn.preprocessing import MinMaxScaler\n",
    "\n",
    "# Set up scaler and create a scaled input matrix\n",
    "scaler = MinMaxScaler()\n",
    "# MinMaxScalar outputs data as a numpy array (which is necessary for XGBoost)\n",
    "X = scaler.fit_transform(X)  \n",
    "X.shape  "
   ]
  },
  {
   "cell_type": "code",
   "execution_count": 159,
   "metadata": {
    "collapsed": true,
    "jupyter": {
     "outputs_hidden": true
    }
   },
   "outputs": [],
   "source": [
    "#Splitting data in test and train\n",
    "from sklearn.model_selection import train_test_split\n",
    "\n",
    "X_train, X_test, y_train, y_test = train_test_split(X, y, test_size=0.2,random_state=143)"
   ]
  },
  {
   "cell_type": "code",
   "execution_count": 160,
   "metadata": {
    "collapsed": true,
    "jupyter": {
     "outputs_hidden": true
    }
   },
   "outputs": [],
   "source": [
    "#Building Models\n",
    "from sklearn.ensemble import RandomForestClassifier\n",
    "#from sklearn.linear_model import LogisticRegression\n",
    "#from xgboost import XGBClassifier\n",
    "from sklearn.metrics import classification_report\n",
    "from sklearn.metrics import confusion_matrix\n",
    "from sklearn.metrics import accuracy_score\n",
    "from sklearn.metrics import roc_auc_score\n",
    "\n",
    "models = []\n",
    "#models.append(('LogisticRegression', LogisticRegression()))\n",
    "#models.append(('XGBoost', XGBClassifier()))\n",
    "models.append(('RandomForest', RandomForestClassifier()))"
   ]
  },
  {
   "cell_type": "code",
   "execution_count": 161,
   "metadata": {
    "jupyter": {
     "outputs_hidden": true
    }
   },
   "outputs": [
    {
     "name": "stdout",
     "output_type": "stream",
     "text": [
      "\n",
      "++++++++++++++ RandomForest ++++++++++++++\n",
      "\n",
      "\n",
      "--- Training model using RandomForest ---\n"
     ]
    },
    {
     "name": "stderr",
     "output_type": "stream",
     "text": [
      "C:\\Users\\acer\\Anaconda3\\lib\\site-packages\\sklearn\\ensemble\\forest.py:246: FutureWarning: The default value of n_estimators will change from 10 in version 0.20 to 100 in 0.22.\n",
      "  \"10 in version 0.20 to 100 in 0.22.\", FutureWarning)\n"
     ]
    },
    {
     "name": "stdout",
     "output_type": "stream",
     "text": [
      "=== DONE ===\n",
      "\n",
      "\n",
      "               precision    recall  f1-score   support\n",
      "\n",
      "           0       0.96      0.98      0.97     33011\n",
      "           1       0.89      0.81      0.85      6911\n",
      "\n",
      "   micro avg       0.95      0.95      0.95     39922\n",
      "   macro avg       0.92      0.89      0.91     39922\n",
      "weighted avg       0.95      0.95      0.95     39922\n",
      " \n",
      "\n",
      "Conf Matrix: \n",
      " [[32306   705]\n",
      " [ 1311  5600]]\n",
      "======================================\n",
      "\n"
     ]
    }
   ],
   "source": [
    "#Training model\n",
    "for name, model in models:\n",
    "    print('\\n++++++++++++++ {} ++++++++++++++\\n'.format(name))\n",
    "\n",
    "    # Train model\n",
    "    print('\\n--- Training model using {} ---'.format(name))\n",
    "    model.fit(X_train, y_train)\n",
    "    print('=== DONE ===\\n')\n",
    "    \n",
    "    # Make predictions on the test-set\n",
    "    y_pred = model.predict(X_test)\n",
    "\n",
    "    # Classification report\n",
    "    report = classification_report(y_test, y_pred)\n",
    "    print('\\n', report, '\\n')\n",
    "    \n",
    "    # Classification report\n",
    "    print('Conf Matrix: \\n', confusion_matrix(y_test,y_pred))\n",
    "    \n",
    "    print('======================================\\n')"
   ]
  },
  {
   "cell_type": "code",
   "execution_count": 162,
   "metadata": {
    "jupyter": {
     "outputs_hidden": true
    }
   },
   "outputs": [
    {
     "name": "stdout",
     "output_type": "stream",
     "text": [
      "Accuracy score:  0.9495015279795601\n",
      "ROC-AUC score:  0.9723067278350424\n"
     ]
    }
   ],
   "source": [
    "#Saving the best fit model \n",
    "final_model=models[0][1]\n",
    "\n",
    "y_pred=final_model.predict(X_test)\n",
    "pred_prob=final_model.predict_proba(X_test)[:,1]\n",
    "#print(classification_report(y_test, y_pred))\n",
    "print(\"Accuracy score: \",accuracy_score(y_test, y_pred))\n",
    "print('ROC-AUC score: ',roc_auc_score(y_test,pred_prob))"
   ]
  },
  {
   "cell_type": "code",
   "execution_count": 163,
   "metadata": {
    "collapsed": true,
    "jupyter": {
     "outputs_hidden": true
    }
   },
   "outputs": [],
   "source": [
    "#Satisfied with the model"
   ]
  },
  {
   "cell_type": "code",
   "execution_count": 24,
   "metadata": {},
   "outputs": [
    {
     "data": {
      "text/plain": [
       "(72581, 23)"
      ]
     },
     "execution_count": 24,
     "metadata": {},
     "output_type": "execute_result"
    }
   ],
   "source": [
    "#====================Final Submission ==========================================\n",
    "# 1.2 Load Dataset\n",
    "test2=pd.read_csv(\"C:/Users/acer/Desktop/Machine Learning/Mahindra/test2_data.csv\")\n",
    "\n",
    "#Variable 7: Converting it to Class of either Mobile numbers provided or NOT, and dropping the original column\n",
    "\n",
    "test2[\"Variable7_M\"]=np.where(test2.Variable7>=1000_000_000,1,0)\n",
    "test2.head()\n",
    "\n",
    "#Converting Variable5 into date\n",
    "dt=test2.Variable5\n",
    "test2.Variable5=[datetime.datetime.strptime(x, '%b-%y') for x in dt]\n",
    "\n",
    "\n",
    "dt_min=test2.Variable5.min()\n",
    "dt_min\n",
    "\n",
    "test2[\"Variable5_Dt\"]=(test2.Variable5-dt_min)\n",
    "test2.Variable5_Dt.head()\n",
    "\n",
    "#train[\"Variable5_dt1\"]=train.Variable5_Dt.str.split(\" \")\n",
    "test2['Variable5_Dt1']=test2.Variable5_Dt.astype('timedelta64[D]')\n",
    "test2.Variable5_Dt1.head()\n",
    "\n",
    "#Drop unnecessary column\n",
    "test2=test2.drop(columns=['Variable7','Variable21','Variable16','Variable20', 'Variable23', 'Variable25',\n",
    "                         'Variable5_Dt','Variable5'], axis=1)\n",
    "test2.shape\n",
    "\n"
   ]
  },
  {
   "cell_type": "code",
   "execution_count": 25,
   "metadata": {},
   "outputs": [],
   "source": [
    "#Imputing Variable 12 and Variable 27 with median value\n",
    "test2.Variable12=test2.Variable12.fillna(test2.Variable12.median())\n",
    "test2.Variable27=test2.Variable27.fillna(test2.Variable27.median())"
   ]
  },
  {
   "cell_type": "code",
   "execution_count": 26,
   "metadata": {},
   "outputs": [
    {
     "data": {
      "text/plain": [
       "Variable2     0\n",
       "Variable4     0\n",
       "Variable6     0\n",
       "Variable8     0\n",
       "Variable9     0\n",
       "Variable10    0\n",
       "Variable11    0\n",
       "Variable13    0\n",
       "Variable14    0\n",
       "Variable15    0\n",
       "Variable17    0\n",
       "Variable18    0\n",
       "Variable19    0\n",
       "Variable22    0\n",
       "Variable24    0\n",
       "Variable26    0\n",
       "Variable28    0\n",
       "dtype: int64"
      ]
     },
     "execution_count": 26,
     "metadata": {},
     "output_type": "execute_result"
    }
   ],
   "source": [
    "#Create Dataset for categorical or binary variables\n",
    "test_cat=test2.select_dtypes(include = ['object'])\n",
    "\n",
    "#Imputing Variable 6 and Variable 18 with separate class\n",
    "test_cat.Variable6=train_cat.Variable6.fillna(\"Blank\")\n",
    "test_cat.Variable18=train_cat.Variable18.fillna(\"Blank\")\n",
    "test_cat.isnull().sum()"
   ]
  },
  {
   "cell_type": "code",
   "execution_count": 27,
   "metadata": {},
   "outputs": [],
   "source": [
    "col=['Variable3','Variable5_Dt1', 'Variable7_M', 'Variable12','Variable27']\n",
    "\n",
    "X1=test2[col]"
   ]
  },
  {
   "cell_type": "code",
   "execution_count": 28,
   "metadata": {},
   "outputs": [
    {
     "data": {
      "text/html": [
       "<div>\n",
       "<style scoped>\n",
       "    .dataframe tbody tr th:only-of-type {\n",
       "        vertical-align: middle;\n",
       "    }\n",
       "\n",
       "    .dataframe tbody tr th {\n",
       "        vertical-align: top;\n",
       "    }\n",
       "\n",
       "    .dataframe thead th {\n",
       "        text-align: right;\n",
       "    }\n",
       "</style>\n",
       "<table border=\"1\" class=\"dataframe\">\n",
       "  <thead>\n",
       "    <tr style=\"text-align: right;\">\n",
       "      <th></th>\n",
       "      <th>Variable2_ARO-1926</th>\n",
       "      <th>Variable2_ARO-2179</th>\n",
       "      <th>Variable2_ARO-2201</th>\n",
       "      <th>Variable2_ARO-2441</th>\n",
       "      <th>Variable2_ARO-2734</th>\n",
       "      <th>Variable2_ARO-2812</th>\n",
       "      <th>Variable2_ARO-2917</th>\n",
       "      <th>Variable2_ARO-3076</th>\n",
       "      <th>Variable2_ARO-3608</th>\n",
       "      <th>Variable2_ARO-3627</th>\n",
       "      <th>...</th>\n",
       "      <th>Variable28_MT15C184</th>\n",
       "      <th>Variable28_MT40C420</th>\n",
       "      <th>Variable28_MTCC192</th>\n",
       "      <th>Variable28_MTFC136</th>\n",
       "      <th>Variable28_MTMC199</th>\n",
       "      <th>Variable28_MTTC212</th>\n",
       "      <th>Variable28_MTXC348</th>\n",
       "      <th>Variable28_MVKC205</th>\n",
       "      <th>Variable28_MVKRC387</th>\n",
       "      <th>Variable28_MZPC395</th>\n",
       "    </tr>\n",
       "  </thead>\n",
       "  <tbody>\n",
       "    <tr>\n",
       "      <th>0</th>\n",
       "      <td>1</td>\n",
       "      <td>0</td>\n",
       "      <td>0</td>\n",
       "      <td>0</td>\n",
       "      <td>0</td>\n",
       "      <td>0</td>\n",
       "      <td>0</td>\n",
       "      <td>0</td>\n",
       "      <td>0</td>\n",
       "      <td>0</td>\n",
       "      <td>...</td>\n",
       "      <td>0</td>\n",
       "      <td>0</td>\n",
       "      <td>0</td>\n",
       "      <td>0</td>\n",
       "      <td>0</td>\n",
       "      <td>0</td>\n",
       "      <td>0</td>\n",
       "      <td>0</td>\n",
       "      <td>0</td>\n",
       "      <td>0</td>\n",
       "    </tr>\n",
       "    <tr>\n",
       "      <th>1</th>\n",
       "      <td>0</td>\n",
       "      <td>0</td>\n",
       "      <td>0</td>\n",
       "      <td>0</td>\n",
       "      <td>0</td>\n",
       "      <td>0</td>\n",
       "      <td>0</td>\n",
       "      <td>0</td>\n",
       "      <td>0</td>\n",
       "      <td>0</td>\n",
       "      <td>...</td>\n",
       "      <td>0</td>\n",
       "      <td>0</td>\n",
       "      <td>0</td>\n",
       "      <td>0</td>\n",
       "      <td>0</td>\n",
       "      <td>0</td>\n",
       "      <td>0</td>\n",
       "      <td>0</td>\n",
       "      <td>0</td>\n",
       "      <td>0</td>\n",
       "    </tr>\n",
       "    <tr>\n",
       "      <th>2</th>\n",
       "      <td>0</td>\n",
       "      <td>0</td>\n",
       "      <td>0</td>\n",
       "      <td>0</td>\n",
       "      <td>0</td>\n",
       "      <td>0</td>\n",
       "      <td>0</td>\n",
       "      <td>0</td>\n",
       "      <td>1</td>\n",
       "      <td>0</td>\n",
       "      <td>...</td>\n",
       "      <td>0</td>\n",
       "      <td>0</td>\n",
       "      <td>0</td>\n",
       "      <td>0</td>\n",
       "      <td>0</td>\n",
       "      <td>0</td>\n",
       "      <td>0</td>\n",
       "      <td>0</td>\n",
       "      <td>0</td>\n",
       "      <td>0</td>\n",
       "    </tr>\n",
       "    <tr>\n",
       "      <th>3</th>\n",
       "      <td>0</td>\n",
       "      <td>0</td>\n",
       "      <td>0</td>\n",
       "      <td>0</td>\n",
       "      <td>0</td>\n",
       "      <td>0</td>\n",
       "      <td>0</td>\n",
       "      <td>0</td>\n",
       "      <td>0</td>\n",
       "      <td>0</td>\n",
       "      <td>...</td>\n",
       "      <td>0</td>\n",
       "      <td>0</td>\n",
       "      <td>0</td>\n",
       "      <td>0</td>\n",
       "      <td>0</td>\n",
       "      <td>0</td>\n",
       "      <td>0</td>\n",
       "      <td>0</td>\n",
       "      <td>0</td>\n",
       "      <td>0</td>\n",
       "    </tr>\n",
       "    <tr>\n",
       "      <th>4</th>\n",
       "      <td>1</td>\n",
       "      <td>0</td>\n",
       "      <td>0</td>\n",
       "      <td>0</td>\n",
       "      <td>0</td>\n",
       "      <td>0</td>\n",
       "      <td>0</td>\n",
       "      <td>0</td>\n",
       "      <td>0</td>\n",
       "      <td>0</td>\n",
       "      <td>...</td>\n",
       "      <td>0</td>\n",
       "      <td>0</td>\n",
       "      <td>0</td>\n",
       "      <td>0</td>\n",
       "      <td>0</td>\n",
       "      <td>0</td>\n",
       "      <td>0</td>\n",
       "      <td>0</td>\n",
       "      <td>0</td>\n",
       "      <td>0</td>\n",
       "    </tr>\n",
       "  </tbody>\n",
       "</table>\n",
       "<p>5 rows × 948 columns</p>\n",
       "</div>"
      ],
      "text/plain": [
       "   Variable2_ARO-1926  Variable2_ARO-2179  Variable2_ARO-2201  \\\n",
       "0                   1                   0                   0   \n",
       "1                   0                   0                   0   \n",
       "2                   0                   0                   0   \n",
       "3                   0                   0                   0   \n",
       "4                   1                   0                   0   \n",
       "\n",
       "   Variable2_ARO-2441  Variable2_ARO-2734  Variable2_ARO-2812  \\\n",
       "0                   0                   0                   0   \n",
       "1                   0                   0                   0   \n",
       "2                   0                   0                   0   \n",
       "3                   0                   0                   0   \n",
       "4                   0                   0                   0   \n",
       "\n",
       "   Variable2_ARO-2917  Variable2_ARO-3076  Variable2_ARO-3608  \\\n",
       "0                   0                   0                   0   \n",
       "1                   0                   0                   0   \n",
       "2                   0                   0                   1   \n",
       "3                   0                   0                   0   \n",
       "4                   0                   0                   0   \n",
       "\n",
       "   Variable2_ARO-3627  ...  Variable28_MT15C184  Variable28_MT40C420  \\\n",
       "0                   0  ...                    0                    0   \n",
       "1                   0  ...                    0                    0   \n",
       "2                   0  ...                    0                    0   \n",
       "3                   0  ...                    0                    0   \n",
       "4                   0  ...                    0                    0   \n",
       "\n",
       "   Variable28_MTCC192  Variable28_MTFC136  Variable28_MTMC199  \\\n",
       "0                   0                   0                   0   \n",
       "1                   0                   0                   0   \n",
       "2                   0                   0                   0   \n",
       "3                   0                   0                   0   \n",
       "4                   0                   0                   0   \n",
       "\n",
       "   Variable28_MTTC212  Variable28_MTXC348  Variable28_MVKC205  \\\n",
       "0                   0                   0                   0   \n",
       "1                   0                   0                   0   \n",
       "2                   0                   0                   0   \n",
       "3                   0                   0                   0   \n",
       "4                   0                   0                   0   \n",
       "\n",
       "   Variable28_MVKRC387  Variable28_MZPC395  \n",
       "0                    0                   0  \n",
       "1                    0                   0  \n",
       "2                    0                   0  \n",
       "3                    0                   0  \n",
       "4                    0                   0  \n",
       "\n",
       "[5 rows x 948 columns]"
      ]
     },
     "execution_count": 28,
     "metadata": {},
     "output_type": "execute_result"
    }
   ],
   "source": [
    "test_cat_dummy=pd.get_dummies(test_cat,columns=['Variable2', 'Variable4', 'Variable6', 'Variable8', 'Variable9',\n",
    "       'Variable10', 'Variable11', 'Variable13', 'Variable14', 'Variable15',\n",
    "       'Variable17', 'Variable18', 'Variable19', 'Variable22', 'Variable24',\n",
    "       'Variable26', 'Variable28'],drop_first=True)\n",
    "test_cat_dummy.head()"
   ]
  },
  {
   "cell_type": "code",
   "execution_count": 46,
   "metadata": {},
   "outputs": [
    {
     "data": {
      "text/plain": [
       "Index(['Variable2_ARO-1926', 'Variable2_ARO-2179', 'Variable2_ARO-2201',\n",
       "       'Variable2_ARO-2441', 'Variable2_ARO-2734', 'Variable2_ARO-2812',\n",
       "       'Variable2_ARO-2917', 'Variable2_ARO-3076', 'Variable2_ARO-3608',\n",
       "       'Variable2_ARO-3627',\n",
       "       ...\n",
       "       'Variable28_MT15C184', 'Variable28_MT40C420', 'Variable28_MTCC192',\n",
       "       'Variable28_MTFC136', 'Variable28_MTMC199', 'Variable28_MTTC212',\n",
       "       'Variable28_MTXC348', 'Variable28_MVKC205', 'Variable28_MVKRC387',\n",
       "       'Variable28_MZPC395'],\n",
       "      dtype='object', length=948)"
      ]
     },
     "execution_count": 46,
     "metadata": {},
     "output_type": "execute_result"
    }
   ],
   "source": [
    "var_to_keep=test_cat_dummy.columns\n",
    "var_to_keep"
   ]
  },
  {
   "cell_type": "code",
   "execution_count": 39,
   "metadata": {},
   "outputs": [
    {
     "data": {
      "text/plain": [
       "(72581, 953)"
      ]
     },
     "execution_count": 39,
     "metadata": {},
     "output_type": "execute_result"
    }
   ],
   "source": [
    "X1=pd.concat((X1,test_cat_dummy),axis=1)\n",
    "X1.shape"
   ]
  },
  {
   "cell_type": "code",
   "execution_count": 172,
   "metadata": {},
   "outputs": [
    {
     "data": {
      "text/plain": [
       "Index(['Variable3', 'Variable5_Dt1', 'Variable7_M', 'Variable12', 'Variable27',\n",
       "       'Variable2_ARO-1926', 'Variable2_ARO-2179', 'Variable2_ARO-2201',\n",
       "       'Variable2_ARO-2441', 'Variable2_ARO-2734',\n",
       "       ...\n",
       "       'Variable28_MT15C184', 'Variable28_MT40C420', 'Variable28_MTCC192',\n",
       "       'Variable28_MTFC136', 'Variable28_MTMC199', 'Variable28_MTTC212',\n",
       "       'Variable28_MTXC348', 'Variable28_MVKC205', 'Variable28_MVKRC387',\n",
       "       'Variable28_MZPC395'],\n",
       "      dtype='object', length=953)"
      ]
     },
     "execution_count": 172,
     "metadata": {},
     "output_type": "execute_result"
    }
   ],
   "source": [
    "X1.columns"
   ]
  },
  {
   "cell_type": "code",
   "execution_count": 40,
   "metadata": {},
   "outputs": [
    {
     "name": "stderr",
     "output_type": "stream",
     "text": [
      "C:\\Users\\acer\\Anaconda3\\lib\\site-packages\\sklearn\\preprocessing\\data.py:334: DataConversionWarning: Data with input dtype uint8, int32, int64, float64 were all converted to float64 by MinMaxScaler.\n",
      "  return self.partial_fit(X, y)\n"
     ]
    },
    {
     "data": {
      "text/plain": [
       "(72581, 953)"
      ]
     },
     "execution_count": 40,
     "metadata": {},
     "output_type": "execute_result"
    }
   ],
   "source": [
    "#Scaling Data\n",
    "from sklearn.preprocessing import MinMaxScaler\n",
    "\n",
    "# Set up scaler and create a scaled input matrix\n",
    "scaler = MinMaxScaler()\n",
    "# MinMaxScalar outputs data as a numpy array (which is necessary for XGBoost)\n",
    "X1 = scaler.fit_transform(X1)  \n",
    "X1.shape "
   ]
  },
  {
   "cell_type": "code",
   "execution_count": 187,
   "metadata": {},
   "outputs": [
    {
     "ename": "ValueError",
     "evalue": "Number of features of the model must match the input. Model n_features is 1003 and input n_features is 953 ",
     "output_type": "error",
     "traceback": [
      "\u001b[1;31m---------------------------------------------------------------------------\u001b[0m",
      "\u001b[1;31mValueError\u001b[0m                                Traceback (most recent call last)",
      "\u001b[1;32m<ipython-input-187-225475bceb50>\u001b[0m in \u001b[0;36m<module>\u001b[1;34m\u001b[0m\n\u001b[1;32m----> 1\u001b[1;33m \u001b[0mfinal_pred\u001b[0m\u001b[1;33m=\u001b[0m\u001b[0mfinal_model\u001b[0m\u001b[1;33m.\u001b[0m\u001b[0mpredict\u001b[0m\u001b[1;33m(\u001b[0m\u001b[0mX1\u001b[0m\u001b[1;33m)\u001b[0m\u001b[1;33m\u001b[0m\u001b[1;33m\u001b[0m\u001b[0m\n\u001b[0m",
      "\u001b[1;32m~\\Anaconda3\\lib\\site-packages\\sklearn\\ensemble\\forest.py\u001b[0m in \u001b[0;36mpredict\u001b[1;34m(self, X)\u001b[0m\n\u001b[0;32m    541\u001b[0m             \u001b[0mThe\u001b[0m \u001b[0mpredicted\u001b[0m \u001b[0mclasses\u001b[0m\u001b[1;33m.\u001b[0m\u001b[1;33m\u001b[0m\u001b[1;33m\u001b[0m\u001b[0m\n\u001b[0;32m    542\u001b[0m         \"\"\"\n\u001b[1;32m--> 543\u001b[1;33m         \u001b[0mproba\u001b[0m \u001b[1;33m=\u001b[0m \u001b[0mself\u001b[0m\u001b[1;33m.\u001b[0m\u001b[0mpredict_proba\u001b[0m\u001b[1;33m(\u001b[0m\u001b[0mX\u001b[0m\u001b[1;33m)\u001b[0m\u001b[1;33m\u001b[0m\u001b[1;33m\u001b[0m\u001b[0m\n\u001b[0m\u001b[0;32m    544\u001b[0m \u001b[1;33m\u001b[0m\u001b[0m\n\u001b[0;32m    545\u001b[0m         \u001b[1;32mif\u001b[0m \u001b[0mself\u001b[0m\u001b[1;33m.\u001b[0m\u001b[0mn_outputs_\u001b[0m \u001b[1;33m==\u001b[0m \u001b[1;36m1\u001b[0m\u001b[1;33m:\u001b[0m\u001b[1;33m\u001b[0m\u001b[1;33m\u001b[0m\u001b[0m\n",
      "\u001b[1;32m~\\Anaconda3\\lib\\site-packages\\sklearn\\ensemble\\forest.py\u001b[0m in \u001b[0;36mpredict_proba\u001b[1;34m(self, X)\u001b[0m\n\u001b[0;32m    581\u001b[0m         \u001b[0mcheck_is_fitted\u001b[0m\u001b[1;33m(\u001b[0m\u001b[0mself\u001b[0m\u001b[1;33m,\u001b[0m \u001b[1;34m'estimators_'\u001b[0m\u001b[1;33m)\u001b[0m\u001b[1;33m\u001b[0m\u001b[1;33m\u001b[0m\u001b[0m\n\u001b[0;32m    582\u001b[0m         \u001b[1;31m# Check data\u001b[0m\u001b[1;33m\u001b[0m\u001b[1;33m\u001b[0m\u001b[1;33m\u001b[0m\u001b[0m\n\u001b[1;32m--> 583\u001b[1;33m         \u001b[0mX\u001b[0m \u001b[1;33m=\u001b[0m \u001b[0mself\u001b[0m\u001b[1;33m.\u001b[0m\u001b[0m_validate_X_predict\u001b[0m\u001b[1;33m(\u001b[0m\u001b[0mX\u001b[0m\u001b[1;33m)\u001b[0m\u001b[1;33m\u001b[0m\u001b[1;33m\u001b[0m\u001b[0m\n\u001b[0m\u001b[0;32m    584\u001b[0m \u001b[1;33m\u001b[0m\u001b[0m\n\u001b[0;32m    585\u001b[0m         \u001b[1;31m# Assign chunk of trees to jobs\u001b[0m\u001b[1;33m\u001b[0m\u001b[1;33m\u001b[0m\u001b[1;33m\u001b[0m\u001b[0m\n",
      "\u001b[1;32m~\\Anaconda3\\lib\\site-packages\\sklearn\\ensemble\\forest.py\u001b[0m in \u001b[0;36m_validate_X_predict\u001b[1;34m(self, X)\u001b[0m\n\u001b[0;32m    360\u001b[0m                                  \"call `fit` before exploiting the model.\")\n\u001b[0;32m    361\u001b[0m \u001b[1;33m\u001b[0m\u001b[0m\n\u001b[1;32m--> 362\u001b[1;33m         \u001b[1;32mreturn\u001b[0m \u001b[0mself\u001b[0m\u001b[1;33m.\u001b[0m\u001b[0mestimators_\u001b[0m\u001b[1;33m[\u001b[0m\u001b[1;36m0\u001b[0m\u001b[1;33m]\u001b[0m\u001b[1;33m.\u001b[0m\u001b[0m_validate_X_predict\u001b[0m\u001b[1;33m(\u001b[0m\u001b[0mX\u001b[0m\u001b[1;33m,\u001b[0m \u001b[0mcheck_input\u001b[0m\u001b[1;33m=\u001b[0m\u001b[1;32mTrue\u001b[0m\u001b[1;33m)\u001b[0m\u001b[1;33m\u001b[0m\u001b[1;33m\u001b[0m\u001b[0m\n\u001b[0m\u001b[0;32m    363\u001b[0m \u001b[1;33m\u001b[0m\u001b[0m\n\u001b[0;32m    364\u001b[0m     \u001b[1;33m@\u001b[0m\u001b[0mproperty\u001b[0m\u001b[1;33m\u001b[0m\u001b[1;33m\u001b[0m\u001b[0m\n",
      "\u001b[1;32m~\\Anaconda3\\lib\\site-packages\\sklearn\\tree\\tree.py\u001b[0m in \u001b[0;36m_validate_X_predict\u001b[1;34m(self, X, check_input)\u001b[0m\n\u001b[0;32m    386\u001b[0m                              \u001b[1;34m\"match the input. Model n_features is %s and \"\u001b[0m\u001b[1;33m\u001b[0m\u001b[1;33m\u001b[0m\u001b[0m\n\u001b[0;32m    387\u001b[0m                              \u001b[1;34m\"input n_features is %s \"\u001b[0m\u001b[1;33m\u001b[0m\u001b[1;33m\u001b[0m\u001b[0m\n\u001b[1;32m--> 388\u001b[1;33m                              % (self.n_features_, n_features))\n\u001b[0m\u001b[0;32m    389\u001b[0m \u001b[1;33m\u001b[0m\u001b[0m\n\u001b[0;32m    390\u001b[0m         \u001b[1;32mreturn\u001b[0m \u001b[0mX\u001b[0m\u001b[1;33m\u001b[0m\u001b[1;33m\u001b[0m\u001b[0m\n",
      "\u001b[1;31mValueError\u001b[0m: Number of features of the model must match the input. Model n_features is 1003 and input n_features is 953 "
     ]
    }
   ],
   "source": [
    "#Prdicting for test2\n",
    "final_pred=final_model.predict(X1)"
   ]
  },
  {
   "cell_type": "code",
   "execution_count": 50,
   "metadata": {},
   "outputs": [
    {
     "data": {
      "text/plain": [
       "Index(['Variable2_ARO-1926', 'Variable2_ARO-2179', 'Variable2_ARO-2201',\n",
       "       'Variable2_ARO-2441', 'Variable2_ARO-2734', 'Variable2_ARO-2812',\n",
       "       'Variable2_ARO-2917', 'Variable2_ARO-3076', 'Variable2_ARO-3608',\n",
       "       'Variable2_ARO-3627',\n",
       "       ...\n",
       "       'Variable28_MT15C184', 'Variable28_MT40C420', 'Variable28_MTCC192',\n",
       "       'Variable28_MTFC136', 'Variable28_MTMC199', 'Variable28_MTTC212',\n",
       "       'Variable28_MTXC348', 'Variable28_MVKC205', 'Variable28_MVKRC387',\n",
       "       'Variable28_MZPC395'],\n",
       "      dtype='object', length=948)"
      ]
     },
     "execution_count": 50,
     "metadata": {},
     "output_type": "execute_result"
    }
   ],
   "source": [
    "var_to_keep"
   ]
  },
  {
   "cell_type": "code",
   "execution_count": 57,
   "metadata": {},
   "outputs": [
    {
     "ename": "KeyError",
     "evalue": "\"['Variable28_MAL1C300', 'Variable28_MCRVC257', 'Variable19_LSAP32979', 'Variable17_MFTV4249', 'Variable19_LWN018368', 'Variable28_M3WVSC197', 'Variable19_LRO016441', 'Variable19_LRDA35926', 'Variable19_LSIA37664', 'Variable19_LTI068546', 'Variable28_MPAC477', 'Variable28_MSMC338', 'Variable17_MHNV13709', 'Variable19_LSH074406'] not in index\"",
     "output_type": "error",
     "traceback": [
      "\u001b[1;31m---------------------------------------------------------------------------\u001b[0m",
      "\u001b[1;31mKeyError\u001b[0m                                  Traceback (most recent call last)",
      "\u001b[1;32m<ipython-input-57-69113ea4944c>\u001b[0m in \u001b[0;36m<module>\u001b[1;34m\u001b[0m\n\u001b[1;32m----> 1\u001b[1;33m \u001b[0mtrain_cat_dummy\u001b[0m\u001b[1;33m=\u001b[0m\u001b[0mtrain_cat_dummy\u001b[0m\u001b[1;33m[\u001b[0m\u001b[0mvar_to_keep\u001b[0m\u001b[1;33m]\u001b[0m\u001b[1;33m\u001b[0m\u001b[1;33m\u001b[0m\u001b[0m\n\u001b[0m",
      "\u001b[1;32m~\\Anaconda3\\lib\\site-packages\\pandas\\core\\frame.py\u001b[0m in \u001b[0;36m__getitem__\u001b[1;34m(self, key)\u001b[0m\n\u001b[0;32m   2932\u001b[0m                 \u001b[0mkey\u001b[0m \u001b[1;33m=\u001b[0m \u001b[0mlist\u001b[0m\u001b[1;33m(\u001b[0m\u001b[0mkey\u001b[0m\u001b[1;33m)\u001b[0m\u001b[1;33m\u001b[0m\u001b[1;33m\u001b[0m\u001b[0m\n\u001b[0;32m   2933\u001b[0m             indexer = self.loc._convert_to_indexer(key, axis=1,\n\u001b[1;32m-> 2934\u001b[1;33m                                                    raise_missing=True)\n\u001b[0m\u001b[0;32m   2935\u001b[0m \u001b[1;33m\u001b[0m\u001b[0m\n\u001b[0;32m   2936\u001b[0m         \u001b[1;31m# take() does not accept boolean indexers\u001b[0m\u001b[1;33m\u001b[0m\u001b[1;33m\u001b[0m\u001b[1;33m\u001b[0m\u001b[0m\n",
      "\u001b[1;32m~\\Anaconda3\\lib\\site-packages\\pandas\\core\\indexing.py\u001b[0m in \u001b[0;36m_convert_to_indexer\u001b[1;34m(self, obj, axis, is_setter, raise_missing)\u001b[0m\n\u001b[0;32m   1352\u001b[0m                 kwargs = {'raise_missing': True if is_setter else\n\u001b[0;32m   1353\u001b[0m                           raise_missing}\n\u001b[1;32m-> 1354\u001b[1;33m                 \u001b[1;32mreturn\u001b[0m \u001b[0mself\u001b[0m\u001b[1;33m.\u001b[0m\u001b[0m_get_listlike_indexer\u001b[0m\u001b[1;33m(\u001b[0m\u001b[0mobj\u001b[0m\u001b[1;33m,\u001b[0m \u001b[0maxis\u001b[0m\u001b[1;33m,\u001b[0m \u001b[1;33m**\u001b[0m\u001b[0mkwargs\u001b[0m\u001b[1;33m)\u001b[0m\u001b[1;33m[\u001b[0m\u001b[1;36m1\u001b[0m\u001b[1;33m]\u001b[0m\u001b[1;33m\u001b[0m\u001b[1;33m\u001b[0m\u001b[0m\n\u001b[0m\u001b[0;32m   1355\u001b[0m         \u001b[1;32melse\u001b[0m\u001b[1;33m:\u001b[0m\u001b[1;33m\u001b[0m\u001b[1;33m\u001b[0m\u001b[0m\n\u001b[0;32m   1356\u001b[0m             \u001b[1;32mtry\u001b[0m\u001b[1;33m:\u001b[0m\u001b[1;33m\u001b[0m\u001b[1;33m\u001b[0m\u001b[0m\n",
      "\u001b[1;32m~\\Anaconda3\\lib\\site-packages\\pandas\\core\\indexing.py\u001b[0m in \u001b[0;36m_get_listlike_indexer\u001b[1;34m(self, key, axis, raise_missing)\u001b[0m\n\u001b[0;32m   1159\u001b[0m         self._validate_read_indexer(keyarr, indexer,\n\u001b[0;32m   1160\u001b[0m                                     \u001b[0mo\u001b[0m\u001b[1;33m.\u001b[0m\u001b[0m_get_axis_number\u001b[0m\u001b[1;33m(\u001b[0m\u001b[0maxis\u001b[0m\u001b[1;33m)\u001b[0m\u001b[1;33m,\u001b[0m\u001b[1;33m\u001b[0m\u001b[1;33m\u001b[0m\u001b[0m\n\u001b[1;32m-> 1161\u001b[1;33m                                     raise_missing=raise_missing)\n\u001b[0m\u001b[0;32m   1162\u001b[0m         \u001b[1;32mreturn\u001b[0m \u001b[0mkeyarr\u001b[0m\u001b[1;33m,\u001b[0m \u001b[0mindexer\u001b[0m\u001b[1;33m\u001b[0m\u001b[1;33m\u001b[0m\u001b[0m\n\u001b[0;32m   1163\u001b[0m \u001b[1;33m\u001b[0m\u001b[0m\n",
      "\u001b[1;32m~\\Anaconda3\\lib\\site-packages\\pandas\\core\\indexing.py\u001b[0m in \u001b[0;36m_validate_read_indexer\u001b[1;34m(self, key, indexer, axis, raise_missing)\u001b[0m\n\u001b[0;32m   1250\u001b[0m             \u001b[1;32mif\u001b[0m \u001b[1;32mnot\u001b[0m\u001b[1;33m(\u001b[0m\u001b[0mself\u001b[0m\u001b[1;33m.\u001b[0m\u001b[0mname\u001b[0m \u001b[1;33m==\u001b[0m \u001b[1;34m'loc'\u001b[0m \u001b[1;32mand\u001b[0m \u001b[1;32mnot\u001b[0m \u001b[0mraise_missing\u001b[0m\u001b[1;33m)\u001b[0m\u001b[1;33m:\u001b[0m\u001b[1;33m\u001b[0m\u001b[1;33m\u001b[0m\u001b[0m\n\u001b[0;32m   1251\u001b[0m                 \u001b[0mnot_found\u001b[0m \u001b[1;33m=\u001b[0m \u001b[0mlist\u001b[0m\u001b[1;33m(\u001b[0m\u001b[0mset\u001b[0m\u001b[1;33m(\u001b[0m\u001b[0mkey\u001b[0m\u001b[1;33m)\u001b[0m \u001b[1;33m-\u001b[0m \u001b[0mset\u001b[0m\u001b[1;33m(\u001b[0m\u001b[0max\u001b[0m\u001b[1;33m)\u001b[0m\u001b[1;33m)\u001b[0m\u001b[1;33m\u001b[0m\u001b[1;33m\u001b[0m\u001b[0m\n\u001b[1;32m-> 1252\u001b[1;33m                 \u001b[1;32mraise\u001b[0m \u001b[0mKeyError\u001b[0m\u001b[1;33m(\u001b[0m\u001b[1;34m\"{} not in index\"\u001b[0m\u001b[1;33m.\u001b[0m\u001b[0mformat\u001b[0m\u001b[1;33m(\u001b[0m\u001b[0mnot_found\u001b[0m\u001b[1;33m)\u001b[0m\u001b[1;33m)\u001b[0m\u001b[1;33m\u001b[0m\u001b[1;33m\u001b[0m\u001b[0m\n\u001b[0m\u001b[0;32m   1253\u001b[0m \u001b[1;33m\u001b[0m\u001b[0m\n\u001b[0;32m   1254\u001b[0m             \u001b[1;31m# we skip the warning on Categorical/Interval\u001b[0m\u001b[1;33m\u001b[0m\u001b[1;33m\u001b[0m\u001b[1;33m\u001b[0m\u001b[0m\n",
      "\u001b[1;31mKeyError\u001b[0m: \"['Variable28_MAL1C300', 'Variable28_MCRVC257', 'Variable19_LSAP32979', 'Variable17_MFTV4249', 'Variable19_LWN018368', 'Variable28_M3WVSC197', 'Variable19_LRO016441', 'Variable19_LRDA35926', 'Variable19_LSIA37664', 'Variable19_LTI068546', 'Variable28_MPAC477', 'Variable28_MSMC338', 'Variable17_MHNV13709', 'Variable19_LSH074406'] not in index\""
     ]
    }
   ],
   "source": [
    "#no of varoable not matching, may be due to absence of \n",
    "#some categories in test data\n",
    "train_cat_dummy=train_cat_dummy[var_to_keep]"
   ]
  },
  {
   "cell_type": "code",
   "execution_count": 56,
   "metadata": {},
   "outputs": [
    {
     "data": {
      "text/plain": [
       "(199609, 998)"
      ]
     },
     "execution_count": 56,
     "metadata": {},
     "output_type": "execute_result"
    }
   ],
   "source": [
    "train_cat_dummy.shape"
   ]
  },
  {
   "cell_type": "code",
   "execution_count": 49,
   "metadata": {},
   "outputs": [
    {
     "name": "stderr",
     "output_type": "stream",
     "text": [
      "C:\\Users\\acer\\Anaconda3\\lib\\site-packages\\sklearn\\preprocessing\\data.py:334: DataConversionWarning: Data with input dtype uint8, int32, int64, float64 were all converted to float64 by MinMaxScaler.\n",
      "  return self.partial_fit(X, y)\n"
     ]
    },
    {
     "data": {
      "text/plain": [
       "(199609, 1003)"
      ]
     },
     "execution_count": 49,
     "metadata": {},
     "output_type": "execute_result"
    }
   ],
   "source": [
    "X=pd.concat((X,train_cat_dummy),axis=1)\n",
    "#Scaling Data\n",
    "from sklearn.preprocessing import MinMaxScaler\n",
    "\n",
    "# Set up scaler and create a scaled input matrix\n",
    "scaler = MinMaxScaler()\n",
    "# MinMaxScalar outputs data as a numpy array (which is necessary for XGBoost)\n",
    "X = scaler.fit_transform(X)  \n",
    "X.shape  "
   ]
  },
  {
   "cell_type": "code",
   "execution_count": null,
   "metadata": {},
   "outputs": [],
   "source": [
    "#It seems test data has new or misising categorical value\n",
    "#It need time to see all the data\n",
    "#I lost my time (atleast 2 hr) due to power cut since morning \n",
    "#which forced me to travel to my relative \n",
    "#My machine also crashed at 11th hour\n",
    "#Sorry couldn't complete it on time\n",
    "\n",
    "#This is my score from train data\n",
    "#Accuracy score:  0.9495015279795601\n",
    "#ROC-AUC score:  0.9723067278350424\n",
    "\n",
    "#Hope you consider"
   ]
  }
 ],
 "metadata": {
  "kernelspec": {
   "display_name": "Python 3",
   "language": "python",
   "name": "python3"
  },
  "language_info": {
   "codemirror_mode": {
    "name": "ipython",
    "version": 3
   },
   "file_extension": ".py",
   "mimetype": "text/x-python",
   "name": "python",
   "nbconvert_exporter": "python",
   "pygments_lexer": "ipython3",
   "version": "3.7.3"
  }
 },
 "nbformat": 4,
 "nbformat_minor": 4
}
